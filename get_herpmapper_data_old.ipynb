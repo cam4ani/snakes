{
 "cells": [
  {
   "cell_type": "code",
   "execution_count": 1,
   "metadata": {},
   "outputs": [],
   "source": [
    "#basic package\n",
    "import json\n",
    "import tqdm\n",
    "import os\n",
    "import numpy\n",
    "import glob\n",
    "import pandas as pd\n",
    "import sys\n",
    "import shutil\n",
    "import time\n",
    "from PIL import Image\n",
    "\n",
    "#url open to get image\n",
    "import urllib.request\n",
    "from urllib.request import urlopen\n",
    "\n",
    "#get data in parallel\n",
    "from multiprocessing import Pool\n",
    "\n",
    "#plot (for image verification)\n",
    "import matplotlib.cm as cm\n",
    "%matplotlib inline\n",
    "from matplotlib import pyplot as plt"
   ]
  },
  {
   "cell_type": "code",
   "execution_count": 2,
   "metadata": {},
   "outputs": [],
   "source": [
    "# Root directory of the project\n",
    "ROOT_DIR = os.path.abspath(\"../\")\n",
    "path_ml = os.path.join(ROOT_DIR,'SNAKES')\n",
    "folder_path = os.path.join(path_ml,'datasets','herpmapper_images')"
   ]
  },
  {
   "cell_type": "markdown",
   "metadata": {},
   "source": [
    "# download data"
   ]
  },
  {
   "cell_type": "code",
   "execution_count": 3,
   "metadata": {},
   "outputs": [],
   "source": [
    "# TODO: ask Andrew for a list of all species, its better so that we dont rely on the folder!"
   ]
  },
  {
   "cell_type": "code",
   "execution_count": 4,
   "metadata": {},
   "outputs": [
    {
     "name": "stdout",
     "output_type": "stream",
     "text": [
      "We have in total 3700 species\n"
     ]
    }
   ],
   "source": [
    "#produce a list of species to search for\n",
    "li_species = []\n",
    "for genus in glob.glob(os.path.join(path_ml,'datasets','snapp_images','*')):\n",
    "    for species in glob.glob(os.path.join(genus,'*')):\n",
    "        li_species.append(species.split('/')[-1])\n",
    "print('We have in total %d species'%len(li_species))"
   ]
  },
  {
   "cell_type": "code",
   "execution_count": 5,
   "metadata": {},
   "outputs": [
    {
     "name": "stdout",
     "output_type": "stream",
     "text": [
      "(236944, 8)\n"
     ]
    },
    {
     "data": {
      "text/html": [
       "<div>\n",
       "<style scoped>\n",
       "    .dataframe tbody tr th:only-of-type {\n",
       "        vertical-align: middle;\n",
       "    }\n",
       "\n",
       "    .dataframe tbody tr th {\n",
       "        vertical-align: top;\n",
       "    }\n",
       "\n",
       "    .dataframe thead th {\n",
       "        text-align: right;\n",
       "    }\n",
       "</style>\n",
       "<table border=\"1\" class=\"dataframe\">\n",
       "  <thead>\n",
       "    <tr style=\"text-align: right;\">\n",
       "      <th></th>\n",
       "      <th>ID</th>\n",
       "      <th>Date</th>\n",
       "      <th>Time</th>\n",
       "      <th>Taxon</th>\n",
       "      <th>Country</th>\n",
       "      <th>Level 1</th>\n",
       "      <th>Level 2</th>\n",
       "      <th>Vouchers</th>\n",
       "    </tr>\n",
       "  </thead>\n",
       "  <tbody>\n",
       "    <tr>\n",
       "      <th>0</th>\n",
       "      <td>HM 1</td>\n",
       "      <td>2006-11-08</td>\n",
       "      <td>13:42:00</td>\n",
       "      <td>Storeria dekayi</td>\n",
       "      <td>United States of America</td>\n",
       "      <td>Iowa</td>\n",
       "      <td>Johnson</td>\n",
       "      <td>https://www.herpmapper.org/content/voucher/0/1...</td>\n",
       "    </tr>\n",
       "    <tr>\n",
       "      <th>1</th>\n",
       "      <td>HM 2</td>\n",
       "      <td>2006-11-07</td>\n",
       "      <td>17:26:00</td>\n",
       "      <td>Lithobates pipiens</td>\n",
       "      <td>United States of America</td>\n",
       "      <td>Iowa</td>\n",
       "      <td>Benton</td>\n",
       "      <td>https://www.herpmapper.org/content/voucher/0/2...</td>\n",
       "    </tr>\n",
       "    <tr>\n",
       "      <th>2</th>\n",
       "      <td>HM 3</td>\n",
       "      <td>2006-11-05</td>\n",
       "      <td>11:55:00</td>\n",
       "      <td>Coluber constrictor flaviventris</td>\n",
       "      <td>United States of America</td>\n",
       "      <td>Iowa</td>\n",
       "      <td>Linn</td>\n",
       "      <td>https://www.herpmapper.org/content/voucher/0/4...</td>\n",
       "    </tr>\n",
       "  </tbody>\n",
       "</table>\n",
       "</div>"
      ],
      "text/plain": [
       "     ID        Date      Time                             Taxon  \\\n",
       "0  HM 1  2006-11-08  13:42:00                   Storeria dekayi   \n",
       "1  HM 2  2006-11-07  17:26:00                Lithobates pipiens   \n",
       "2  HM 3  2006-11-05  11:55:00  Coluber constrictor flaviventris   \n",
       "\n",
       "                    Country Level 1  Level 2  \\\n",
       "0  United States of America    Iowa  Johnson   \n",
       "1  United States of America    Iowa   Benton   \n",
       "2  United States of America    Iowa     Linn   \n",
       "\n",
       "                                            Vouchers  \n",
       "0  https://www.herpmapper.org/content/voucher/0/1...  \n",
       "1  https://www.herpmapper.org/content/voucher/0/2...  \n",
       "2  https://www.herpmapper.org/content/voucher/0/4...  "
      ]
     },
     "execution_count": 5,
     "metadata": {},
     "output_type": "execute_result"
    }
   ],
   "source": [
    "#to get url to ask in hermaper\n",
    "df_all = pd.read_csv(os.path.join(folder_path,'herpmapper.csv'))\n",
    "print(df_all.shape)\n",
    "df_all.head(3)"
   ]
  },
  {
   "cell_type": "markdown",
   "metadata": {},
   "source": [
    "# create a csv file with info of images"
   ]
  },
  {
   "cell_type": "code",
   "execution_count": 6,
   "metadata": {},
   "outputs": [
    {
     "name": "stdout",
     "output_type": "stream",
     "text": [
      "(40635, 8)\n",
      "(40632, 8)\n"
     ]
    },
    {
     "data": {
      "text/html": [
       "<div>\n",
       "<style scoped>\n",
       "    .dataframe tbody tr th:only-of-type {\n",
       "        vertical-align: middle;\n",
       "    }\n",
       "\n",
       "    .dataframe tbody tr th {\n",
       "        vertical-align: top;\n",
       "    }\n",
       "\n",
       "    .dataframe thead th {\n",
       "        text-align: right;\n",
       "    }\n",
       "</style>\n",
       "<table border=\"1\" class=\"dataframe\">\n",
       "  <thead>\n",
       "    <tr style=\"text-align: right;\">\n",
       "      <th></th>\n",
       "      <th>ID</th>\n",
       "      <th>Date</th>\n",
       "      <th>Time</th>\n",
       "      <th>Taxon</th>\n",
       "      <th>Country</th>\n",
       "      <th>Level 1</th>\n",
       "      <th>Level 2</th>\n",
       "      <th>Vouchers</th>\n",
       "      <th>url_list</th>\n",
       "    </tr>\n",
       "  </thead>\n",
       "  <tbody>\n",
       "    <tr>\n",
       "      <th>0</th>\n",
       "      <td>HM 1</td>\n",
       "      <td>2006-11-08</td>\n",
       "      <td>13:42:00</td>\n",
       "      <td>Storeria dekayi</td>\n",
       "      <td>United States of America</td>\n",
       "      <td>Iowa</td>\n",
       "      <td>Johnson</td>\n",
       "      <td>https://www.herpmapper.org/content/voucher/0/1...</td>\n",
       "      <td>[https://www.herpmapper.org/content/voucher/0/...</td>\n",
       "    </tr>\n",
       "    <tr>\n",
       "      <th>4</th>\n",
       "      <td>HM 5</td>\n",
       "      <td>2006-11-04</td>\n",
       "      <td>12:55:00</td>\n",
       "      <td>Storeria dekayi</td>\n",
       "      <td>United States of America</td>\n",
       "      <td>Iowa</td>\n",
       "      <td>Linn</td>\n",
       "      <td>https://www.herpmapper.org/content/voucher/0/1...</td>\n",
       "      <td>[https://www.herpmapper.org/content/voucher/0/...</td>\n",
       "    </tr>\n",
       "    <tr>\n",
       "      <th>5</th>\n",
       "      <td>HM 6</td>\n",
       "      <td>2006-10-30</td>\n",
       "      <td>09:05:00</td>\n",
       "      <td>Storeria dekayi</td>\n",
       "      <td>United States of America</td>\n",
       "      <td>Iowa</td>\n",
       "      <td>Linn</td>\n",
       "      <td>https://www.herpmapper.org/content/voucher/0/1...</td>\n",
       "      <td>[https://www.herpmapper.org/content/voucher/0/...</td>\n",
       "    </tr>\n",
       "  </tbody>\n",
       "</table>\n",
       "</div>"
      ],
      "text/plain": [
       "     ID        Date      Time            Taxon                   Country  \\\n",
       "0  HM 1  2006-11-08  13:42:00  Storeria dekayi  United States of America   \n",
       "4  HM 5  2006-11-04  12:55:00  Storeria dekayi  United States of America   \n",
       "5  HM 6  2006-10-30  09:05:00  Storeria dekayi  United States of America   \n",
       "\n",
       "  Level 1  Level 2                                           Vouchers  \\\n",
       "0    Iowa  Johnson  https://www.herpmapper.org/content/voucher/0/1...   \n",
       "4    Iowa     Linn  https://www.herpmapper.org/content/voucher/0/1...   \n",
       "5    Iowa     Linn  https://www.herpmapper.org/content/voucher/0/1...   \n",
       "\n",
       "                                            url_list  \n",
       "0  [https://www.herpmapper.org/content/voucher/0/...  \n",
       "4  [https://www.herpmapper.org/content/voucher/0/...  \n",
       "5  [https://www.herpmapper.org/content/voucher/0/...  "
      ]
     },
     "execution_count": 6,
     "metadata": {},
     "output_type": "execute_result"
    }
   ],
   "source": [
    "df = df_all[df_all['Taxon'].isin(li_species)]\n",
    "print(df.shape)\n",
    "df = df[~df['Vouchers'].isnull()]\n",
    "print(df.shape)\n",
    "df['url_list'] = df['Vouchers'].map(lambda x: x.split(','))\n",
    "df.head(3)"
   ]
  },
  {
   "cell_type": "code",
   "execution_count": 7,
   "metadata": {},
   "outputs": [
    {
     "name": "stdout",
     "output_type": "stream",
     "text": [
      "There is 946 species with at least one image in HerpMapper\n"
     ]
    }
   ],
   "source": [
    "li_species_herpmapper = list(set(df['Taxon'].tolist()))\n",
    "print('There is %d species with at least one image in HerpMapper'%len(li_species_herpmapper))"
   ]
  },
  {
   "cell_type": "code",
   "execution_count": 8,
   "metadata": {},
   "outputs": [
    {
     "name": "stdout",
     "output_type": "stream",
     "text": [
      "There is 52831 images to download from Herpmapper\n"
     ]
    },
    {
     "data": {
      "text/html": [
       "<div>\n",
       "<style scoped>\n",
       "    .dataframe tbody tr th:only-of-type {\n",
       "        vertical-align: middle;\n",
       "    }\n",
       "\n",
       "    .dataframe tbody tr th {\n",
       "        vertical-align: top;\n",
       "    }\n",
       "\n",
       "    .dataframe thead th {\n",
       "        text-align: right;\n",
       "    }\n",
       "</style>\n",
       "<table border=\"1\" class=\"dataframe\">\n",
       "  <thead>\n",
       "    <tr style=\"text-align: right;\">\n",
       "      <th></th>\n",
       "      <th>Date</th>\n",
       "      <th>Level 1</th>\n",
       "      <th>Level 2</th>\n",
       "      <th>Time</th>\n",
       "      <th>Taxon</th>\n",
       "      <th>ID</th>\n",
       "      <th>level_6</th>\n",
       "      <th>url</th>\n",
       "      <th>id</th>\n",
       "      <th>img_path</th>\n",
       "    </tr>\n",
       "  </thead>\n",
       "  <tbody>\n",
       "    <tr>\n",
       "      <th>0</th>\n",
       "      <td>2006-11-08</td>\n",
       "      <td>Iowa</td>\n",
       "      <td>Johnson</td>\n",
       "      <td>13:42:00</td>\n",
       "      <td>Storeria dekayi</td>\n",
       "      <td>HM 1</td>\n",
       "      <td>0</td>\n",
       "      <td>https://www.herpmapper.org/content/voucher/0/1...</td>\n",
       "      <td>0-1</td>\n",
       "      <td>/mount/SDB/camille-secure/SNAKES/datasets/herp...</td>\n",
       "    </tr>\n",
       "    <tr>\n",
       "      <th>1</th>\n",
       "      <td>2006-11-04</td>\n",
       "      <td>Iowa</td>\n",
       "      <td>Linn</td>\n",
       "      <td>12:55:00</td>\n",
       "      <td>Storeria dekayi</td>\n",
       "      <td>HM 5</td>\n",
       "      <td>0</td>\n",
       "      <td>https://www.herpmapper.org/content/voucher/0/1...</td>\n",
       "      <td>0-13</td>\n",
       "      <td>/mount/SDB/camille-secure/SNAKES/datasets/herp...</td>\n",
       "    </tr>\n",
       "    <tr>\n",
       "      <th>2</th>\n",
       "      <td>2006-11-04</td>\n",
       "      <td>Iowa</td>\n",
       "      <td>Linn</td>\n",
       "      <td>12:55:00</td>\n",
       "      <td>Storeria dekayi</td>\n",
       "      <td>HM 5</td>\n",
       "      <td>1</td>\n",
       "      <td>https://www.herpmapper.org/content/voucher/0/...</td>\n",
       "      <td>0-14</td>\n",
       "      <td>/mount/SDB/camille-secure/SNAKES/datasets/herp...</td>\n",
       "    </tr>\n",
       "  </tbody>\n",
       "</table>\n",
       "</div>"
      ],
      "text/plain": [
       "         Date Level 1  Level 2      Time            Taxon    ID  level_6  \\\n",
       "0  2006-11-08    Iowa  Johnson  13:42:00  Storeria dekayi  HM 1        0   \n",
       "1  2006-11-04    Iowa     Linn  12:55:00  Storeria dekayi  HM 5        0   \n",
       "2  2006-11-04    Iowa     Linn  12:55:00  Storeria dekayi  HM 5        1   \n",
       "\n",
       "                                                 url    id  \\\n",
       "0  https://www.herpmapper.org/content/voucher/0/1...   0-1   \n",
       "1  https://www.herpmapper.org/content/voucher/0/1...  0-13   \n",
       "2   https://www.herpmapper.org/content/voucher/0/...  0-14   \n",
       "\n",
       "                                            img_path  \n",
       "0  /mount/SDB/camille-secure/SNAKES/datasets/herp...  \n",
       "1  /mount/SDB/camille-secure/SNAKES/datasets/herp...  \n",
       "2  /mount/SDB/camille-secure/SNAKES/datasets/herp...  "
      ]
     },
     "execution_count": 8,
     "metadata": {},
     "output_type": "execute_result"
    }
   ],
   "source": [
    "#one line per image\n",
    "df = df.set_index(['Date', 'Level 1', 'Level 2', 'Time', 'Taxon','ID'])['url_list'].apply(pd.Series).stack()\n",
    "df = df.reset_index()\n",
    "df = df.rename(columns={0:'url'})\n",
    "#create a single id per image based on the info of herpmapper that is not supposed to changed\n",
    "#TODO: be verified by Andrew if this id is indeed unique (herpmapper should know)\n",
    "df['id'] = df['url'].map(lambda x: '-'.join(x.split('.')[-2].split('/')[-2:]))\n",
    "df['img_path'] = df.apply(lambda x: os.path.join(path_ml,'datasets','herpmapper_images',x['Taxon'],\n",
    "                                                       x['Taxon']+'_'+x['id']+\".png\"), axis=1)\n",
    "print('There is %d images to download from Herpmapper'%df.shape[0])\n",
    "df.head(3)"
   ]
  },
  {
   "cell_type": "markdown",
   "metadata": {},
   "source": [
    "# download image from HerpMapper"
   ]
  },
  {
   "cell_type": "code",
   "execution_count": 9,
   "metadata": {},
   "outputs": [],
   "source": [
    "#in case to erase all\n",
    "#shutil.rmtree(os.path.join(path_ml,'datasets','herpmapper_images_old'))"
   ]
  },
  {
   "cell_type": "code",
   "execution_count": 10,
   "metadata": {},
   "outputs": [],
   "source": [
    "#create appropriate folders if not existing\n",
    "for species in li_species_herpmapper:\n",
    "    folder_path_s = os.path.join(folder_path,species)\n",
    "    if not os.path.exists(folder_path_s):\n",
    "        os.makedirs(folder_path_s)      "
   ]
  },
  {
   "cell_type": "code",
   "execution_count": 11,
   "metadata": {
    "scrolled": true
   },
   "outputs": [
    {
     "name": "stdout",
     "output_type": "stream",
     "text": [
      "Not able to DOWNLOAD herpmapper image for species Crotalus atrox with id 6-60465 : \n",
      "cannot identify image file <_io.BytesIO object at 0x7fecddbec620>\n",
      "\n",
      "Not able to DOWNLOAD herpmapper image for species Crotalus horridus with id 2-21098 : \n",
      "HTTP Error 504: Gateway Time-out\n",
      "\n",
      "Not able to DOWNLOAD herpmapper image for species Opheodrys vernalis with id 6-63743 : \n",
      "HTTP Error 404: Not Found\n",
      "\n",
      "Not able to DOWNLOAD herpmapper image for species Pantherophis vulpinus with id 26-260082 : \n",
      "HTTP Error 404: Not Found\n",
      "\n",
      "Total running time:  1218.6887047290802\n"
     ]
    }
   ],
   "source": [
    "def download_herpmapper_image(i):\n",
    "    #download image and save it\n",
    "    species = df.iloc[i]['Taxon']\n",
    "    try:\n",
    "        img = Image.open(urlopen(df.iloc[i]['url']))\n",
    "        img.save(os.path.join(os.path.join(folder_path, species),\n",
    "                              species+'_'+df.iloc[i]['id']+\".png\"))\n",
    "    except KeyboardInterrupt:\n",
    "            raise\n",
    "    except Exception as e:\n",
    "        print('Not able to DOWNLOAD herpmapper image for species %s with id %s : '%(species, df.iloc[i]['id']))\n",
    "        print(e)\n",
    "        print()\n",
    "\n",
    "#compute time needed to gather all images\n",
    "start = time.time()\n",
    "with Pool(500) as p:\n",
    "    p.map(download_herpmapper_image, range(df.shape[0]))\n",
    "end = time.time()\n",
    "print (\"Total running time: \", end-start) #in seconds"
   ]
  },
  {
   "cell_type": "markdown",
   "metadata": {},
   "source": [
    "# verify error in download"
   ]
  },
  {
   "cell_type": "markdown",
   "metadata": {},
   "source": [
    "#indeed url can not be found\n",
    "url = df[(df['Taxon']=='Opheodrys vernalis')&(df['id']=='6-63743')]['url'].values[0]\n",
    "print(url)\n",
    "img = Image.open(urlopen(url))\n",
    "plt.imshow(img);"
   ]
  },
  {
   "cell_type": "markdown",
   "metadata": {},
   "source": [
    "#indeed: its a video\n",
    "url = df[(df['Taxon']=='Crotalus atrox')&(df['id']=='6-60465')]['url'].values[0]\n",
    "print(url)\n",
    "img = Image.open(urlopen(url))\n",
    "plt.imshow(img);"
   ]
  },
  {
   "cell_type": "markdown",
   "metadata": {},
   "source": [
    "#indeed url can not be found\n",
    "url = df[(df['Taxon']=='Pantherophis vulpinus')&(df['id']=='26-260082')]['url'].values[0]\n",
    "print(url)\n",
    "img = Image.open(urlopen(url))\n",
    "plt.imshow(img);"
   ]
  },
  {
   "cell_type": "code",
   "execution_count": 14,
   "metadata": {},
   "outputs": [],
   "source": [
    "#the \"HTTP Error 504: Gateway Time-out\" error might appear, in this case run the code another day you might be luckier"
   ]
  },
  {
   "cell_type": "markdown",
   "metadata": {},
   "source": [
    "# Check amount of Herpmapper images we have"
   ]
  },
  {
   "cell_type": "code",
   "execution_count": 12,
   "metadata": {},
   "outputs": [
    {
     "name": "stdout",
     "output_type": "stream",
     "text": [
      "We have 52827 images collected from Herpmapper\n"
     ]
    }
   ],
   "source": [
    "#create appropriate folder if not existing\n",
    "if not os.path.exists(folder_path):\n",
    "    os.makedirs(folder_path)\n",
    "#choose appropriate genus for search\n",
    "li_images_hm = []\n",
    "for species in glob.glob(os.path.join(folder_path,'*')):\n",
    "    li_images_hm.extend([x for x in glob.glob(os.path.join(species,'*')) if not x.endswith('.csv')]) \n",
    "print('We have %d images collected from Herpmapper'%len(li_images_hm))"
   ]
  },
  {
   "cell_type": "code",
   "execution_count": 13,
   "metadata": {},
   "outputs": [
    {
     "name": "stdout",
     "output_type": "stream",
     "text": [
      "We lost 0.01 percent of images (4 images)\n"
     ]
    }
   ],
   "source": [
    "#save metadata info (only collected images)\n",
    "x1 = df.shape[0]\n",
    "df = df[df['img_path'].isin(li_images_hm)]\n",
    "print('We lost %.2f percent of images (%d images)'%((x1-len(li_images_hm))/x1*100,x1-len(li_images_hm)))\n",
    "df.to_csv(os.path.join(folder_path,'herpmapper_image_info.csv'), index=False, sep=';')"
   ]
  },
  {
   "cell_type": "code",
   "execution_count": null,
   "metadata": {},
   "outputs": [],
   "source": []
  },
  {
   "cell_type": "code",
   "execution_count": null,
   "metadata": {},
   "outputs": [],
   "source": []
  },
  {
   "cell_type": "code",
   "execution_count": null,
   "metadata": {},
   "outputs": [],
   "source": []
  },
  {
   "cell_type": "code",
   "execution_count": null,
   "metadata": {},
   "outputs": [],
   "source": []
  },
  {
   "cell_type": "code",
   "execution_count": null,
   "metadata": {},
   "outputs": [],
   "source": []
  },
  {
   "cell_type": "code",
   "execution_count": null,
   "metadata": {},
   "outputs": [],
   "source": []
  }
 ],
 "metadata": {
  "kernelspec": {
   "display_name": "Python 3",
   "language": "python",
   "name": "python3"
  },
  "language_info": {
   "codemirror_mode": {
    "name": "ipython",
    "version": 3
   },
   "file_extension": ".py",
   "mimetype": "text/x-python",
   "name": "python",
   "nbconvert_exporter": "python",
   "pygments_lexer": "ipython3",
   "version": "3.6.5"
  }
 },
 "nbformat": 4,
 "nbformat_minor": 2
}

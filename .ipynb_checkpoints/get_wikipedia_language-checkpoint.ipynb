{
 "cells": [
  {
   "cell_type": "code",
   "execution_count": 1,
   "metadata": {},
   "outputs": [],
   "source": [
    "#basic package\n",
    "import json\n",
    "import tqdm\n",
    "import os\n",
    "import numpy as np\n",
    "import glob\n",
    "import pandas as pd\n",
    "import sys\n",
    "import shutil\n",
    "import time\n",
    "from PIL import Image\n",
    "import json\n",
    "import requests\n",
    "import pickle\n",
    "\n",
    "#url open to get image\n",
    "import urllib.request\n",
    "from urllib.request import urlopen\n",
    "\n",
    "#get data in parallel\n",
    "from multiprocessing import Pool\n",
    "\n",
    "#plot (for image verification)\n",
    "import matplotlib.cm as cm\n",
    "%matplotlib inline\n",
    "from matplotlib import pyplot as plt"
   ]
  },
  {
   "cell_type": "code",
   "execution_count": 2,
   "metadata": {},
   "outputs": [],
   "source": [
    "# Root directory of the project\n",
    "ROOT_DIR = os.path.abspath(\"../\")\n",
    "path_data = os.path.join(ROOT_DIR,'datasets/wikipedia')"
   ]
  },
  {
   "cell_type": "code",
   "execution_count": 3,
   "metadata": {},
   "outputs": [
    {
     "name": "stderr",
     "output_type": "stream",
     "text": [
      "/home/camille/anaconda3/lib/python3.6/site-packages/h5py/__init__.py:36: FutureWarning: Conversion of the second argument of issubdtype from `float` to `np.floating` is deprecated. In future, it will be treated as `np.float64 == np.dtype(float).type`.\n",
      "  from ._conv import register_converters as _register_converters\n",
      "Using TensorFlow backend.\n"
     ]
    }
   ],
   "source": [
    "PACKAGE_PARENT = '../../..'\n",
    "SCRIPT_DIR = os.path.dirname(os.path.realpath(os.path.join(os.getcwd(), os.path.expanduser('__file__'))))\n",
    "sys.path.append(os.path.normpath(os.path.join(SCRIPT_DIR, PACKAGE_PARENT)))\n",
    "\n",
    "from UTILS.utils import search_wikipedia_laguage"
   ]
  },
  {
   "cell_type": "code",
   "execution_count": null,
   "metadata": {},
   "outputs": [],
   "source": [
    "#Note:\n",
    "#their is some redirection in wikipedia, for example 'Acanthophis antarcticus' was redirected to 'Common death adder'\n",
    "#Indeed, if we avoid these redirection we will loose some info as in the previous example. so we let them, and one\n",
    "#should later verify all the onw that has been redirected."
   ]
  },
  {
   "cell_type": "markdown",
   "metadata": {},
   "source": [
    "## download synonyms and species names"
   ]
  },
  {
   "cell_type": "code",
   "execution_count": 4,
   "metadata": {},
   "outputs": [
    {
     "name": "stdout",
     "output_type": "stream",
     "text": [
      "(3730, 7)\n"
     ]
    },
    {
     "data": {
      "text/html": [
       "<div>\n",
       "<style scoped>\n",
       "    .dataframe tbody tr th:only-of-type {\n",
       "        vertical-align: middle;\n",
       "    }\n",
       "\n",
       "    .dataframe tbody tr th {\n",
       "        vertical-align: top;\n",
       "    }\n",
       "\n",
       "    .dataframe thead th {\n",
       "        text-align: right;\n",
       "    }\n",
       "</style>\n",
       "<table border=\"1\" class=\"dataframe\">\n",
       "  <thead>\n",
       "    <tr style=\"text-align: right;\">\n",
       "      <th></th>\n",
       "      <th>binomial</th>\n",
       "      <th>split2</th>\n",
       "      <th>split2_clean</th>\n",
       "      <th>li_synonyms</th>\n",
       "      <th>li_synonyms_clean</th>\n",
       "      <th>syn_equal_other_species</th>\n",
       "      <th>li_synonyms_final</th>\n",
       "    </tr>\n",
       "  </thead>\n",
       "  <tbody>\n",
       "    <tr>\n",
       "      <th>0</th>\n",
       "      <td>Hydrophis peronii</td>\n",
       "      <td>c(\"Acalyptus Peronii\", \"? Acalyptus\", \"Acalypt...</td>\n",
       "      <td>['Pseudodisteira horrida', 'Acalyptophis peron...</td>\n",
       "      <td>['Pseudodisteira horrida', 'Acalyptophis peron...</td>\n",
       "      <td>['Pseudodisteira horrida', 'Acalyptophis peron...</td>\n",
       "      <td>[]</td>\n",
       "      <td>['Pseudodisteira horrida', 'Acalyptophis peron...</td>\n",
       "    </tr>\n",
       "    <tr>\n",
       "      <th>1</th>\n",
       "      <td>Acanthophis antarcticus</td>\n",
       "      <td>c(\"Boa antarctica\", \"Acanthophis cerastinus\", ...</td>\n",
       "      <td>['Vipera acanthophis', 'Vipera sorda', 'Boa an...</td>\n",
       "      <td>['Vipera acanthophis', 'Vipera sorda', 'Boa an...</td>\n",
       "      <td>['Vipera acanthophis', 'Vipera sorda', 'Boa an...</td>\n",
       "      <td>[]</td>\n",
       "      <td>['Vipera acanthophis', 'Vipera sorda', 'Boa an...</td>\n",
       "    </tr>\n",
       "    <tr>\n",
       "      <th>2</th>\n",
       "      <td>Acanthophis hawkei</td>\n",
       "      <td>c(\"Acanthophis hawkei\", \"Acanthophis cummingi\"...</td>\n",
       "      <td>['Acanthophis cummingi', 'Acanthophis hawkei']</td>\n",
       "      <td>['Acanthophis cummingi']</td>\n",
       "      <td>['Acanthophis cummingi']</td>\n",
       "      <td>[]</td>\n",
       "      <td>['Acanthophis cummingi']</td>\n",
       "    </tr>\n",
       "  </tbody>\n",
       "</table>\n",
       "</div>"
      ],
      "text/plain": [
       "                  binomial                                             split2  \\\n",
       "0        Hydrophis peronii  c(\"Acalyptus Peronii\", \"? Acalyptus\", \"Acalypt...   \n",
       "1  Acanthophis antarcticus  c(\"Boa antarctica\", \"Acanthophis cerastinus\", ...   \n",
       "2       Acanthophis hawkei  c(\"Acanthophis hawkei\", \"Acanthophis cummingi\"...   \n",
       "\n",
       "                                        split2_clean  \\\n",
       "0  ['Pseudodisteira horrida', 'Acalyptophis peron...   \n",
       "1  ['Vipera acanthophis', 'Vipera sorda', 'Boa an...   \n",
       "2     ['Acanthophis cummingi', 'Acanthophis hawkei']   \n",
       "\n",
       "                                         li_synonyms  \\\n",
       "0  ['Pseudodisteira horrida', 'Acalyptophis peron...   \n",
       "1  ['Vipera acanthophis', 'Vipera sorda', 'Boa an...   \n",
       "2                           ['Acanthophis cummingi']   \n",
       "\n",
       "                                   li_synonyms_clean syn_equal_other_species  \\\n",
       "0  ['Pseudodisteira horrida', 'Acalyptophis peron...                      []   \n",
       "1  ['Vipera acanthophis', 'Vipera sorda', 'Boa an...                      []   \n",
       "2                           ['Acanthophis cummingi']                      []   \n",
       "\n",
       "                                   li_synonyms_final  \n",
       "0  ['Pseudodisteira horrida', 'Acalyptophis peron...  \n",
       "1  ['Vipera acanthophis', 'Vipera sorda', 'Boa an...  \n",
       "2                           ['Acanthophis cummingi']  "
      ]
     },
     "execution_count": 4,
     "metadata": {},
     "output_type": "execute_result"
    }
   ],
   "source": [
    "df_species_syn = pd.read_csv(os.path.join(ROOT_DIR, 'datasets/synonyms/df_species_syn_andrew.csv'), sep=',')\n",
    "print(df_species_syn.shape)\n",
    "df_species_syn.head(3)"
   ]
  },
  {
   "cell_type": "code",
   "execution_count": 5,
   "metadata": {},
   "outputs": [
    {
     "name": "stdout",
     "output_type": "stream",
     "text": [
      "There is 3730 species\n"
     ]
    }
   ],
   "source": [
    "#create a list of species\n",
    "li_species = df_species_syn['binomial'].tolist()\n",
    "if len(li_species)!=len(set(li_species)):\n",
    "    print('EREUR non unique species name')\n",
    "    sys.exit()\n",
    "print('There is %d species'%len(li_species))"
   ]
  },
  {
   "cell_type": "markdown",
   "metadata": {},
   "source": [
    "## search for wiki language"
   ]
  },
  {
   "cell_type": "code",
   "execution_count": null,
   "metadata": {},
   "outputs": [],
   "source": [
    "df = pd.DataFrame()\n",
    "for species in tqdm.tqdm(li_species):\n",
    "    content = search_wikipedia_laguage(text=species,language='en')\n",
    "    d_p = content['query']['pages']\n",
    "    for p in d_p.keys(): \n",
    "        if 'langlinks' in d_p[p]:\n",
    "            df_lang = pd.DataFrame(d_p[p]['langlinks'])\n",
    "            df_lang = df_lang.filter(['langname', '*'])\n",
    "            df_lang = df_lang.set_index('langname').T\n",
    "            df_lang['pageid'] = p\n",
    "            df_lang['title'] = d_p[p]['title']\n",
    "            df_lang['species'] = species\n",
    "            df = pd.concat([df,df_lang], ignore_index=True)"
   ]
  },
  {
   "cell_type": "code",
   "execution_count": 7,
   "metadata": {},
   "outputs": [
    {
     "name": "stdout",
     "output_type": "stream",
     "text": [
      "(1757, 144)\n"
     ]
    },
    {
     "data": {
      "text/html": [
       "<div>\n",
       "<style scoped>\n",
       "    .dataframe tbody tr th:only-of-type {\n",
       "        vertical-align: middle;\n",
       "    }\n",
       "\n",
       "    .dataframe tbody tr th {\n",
       "        vertical-align: top;\n",
       "    }\n",
       "\n",
       "    .dataframe thead th {\n",
       "        text-align: right;\n",
       "    }\n",
       "</style>\n",
       "<table border=\"1\" class=\"dataframe\">\n",
       "  <thead>\n",
       "    <tr style=\"text-align: right;\">\n",
       "      <th></th>\n",
       "      <th>Afrikaans</th>\n",
       "      <th>Albanian</th>\n",
       "      <th>Alemannisch</th>\n",
       "      <th>Arabic</th>\n",
       "      <th>Aragonese</th>\n",
       "      <th>Armenian</th>\n",
       "      <th>Arpitan</th>\n",
       "      <th>Assamese</th>\n",
       "      <th>Asturian</th>\n",
       "      <th>Aymara</th>\n",
       "      <th>...</th>\n",
       "      <th>Waray</th>\n",
       "      <th>Welsh</th>\n",
       "      <th>Western Frisian</th>\n",
       "      <th>Western Mari</th>\n",
       "      <th>Western Punjabi</th>\n",
       "      <th>Xhosa</th>\n",
       "      <th>Zazaki</th>\n",
       "      <th>pageid</th>\n",
       "      <th>species</th>\n",
       "      <th>title</th>\n",
       "    </tr>\n",
       "  </thead>\n",
       "  <tbody>\n",
       "    <tr>\n",
       "      <th>0</th>\n",
       "      <td>NaN</td>\n",
       "      <td>NaN</td>\n",
       "      <td>NaN</td>\n",
       "      <td>NaN</td>\n",
       "      <td>NaN</td>\n",
       "      <td>NaN</td>\n",
       "      <td>NaN</td>\n",
       "      <td>NaN</td>\n",
       "      <td>NaN</td>\n",
       "      <td>NaN</td>\n",
       "      <td>...</td>\n",
       "      <td>Acalyptophis peronii</td>\n",
       "      <td>NaN</td>\n",
       "      <td>NaN</td>\n",
       "      <td>NaN</td>\n",
       "      <td>اکالیپٹوفس پیرونی</td>\n",
       "      <td>NaN</td>\n",
       "      <td>NaN</td>\n",
       "      <td>26760494</td>\n",
       "      <td>Hydrophis peronii</td>\n",
       "      <td>Hydrophis peronii</td>\n",
       "    </tr>\n",
       "    <tr>\n",
       "      <th>1</th>\n",
       "      <td>NaN</td>\n",
       "      <td>NaN</td>\n",
       "      <td>NaN</td>\n",
       "      <td>NaN</td>\n",
       "      <td>NaN</td>\n",
       "      <td>NaN</td>\n",
       "      <td>NaN</td>\n",
       "      <td>NaN</td>\n",
       "      <td>NaN</td>\n",
       "      <td>NaN</td>\n",
       "      <td>...</td>\n",
       "      <td>Acanthophis antarcticus</td>\n",
       "      <td>NaN</td>\n",
       "      <td>NaN</td>\n",
       "      <td>NaN</td>\n",
       "      <td>موتوالا سپ</td>\n",
       "      <td>NaN</td>\n",
       "      <td>NaN</td>\n",
       "      <td>6166502</td>\n",
       "      <td>Acanthophis antarcticus</td>\n",
       "      <td>Common death adder</td>\n",
       "    </tr>\n",
       "    <tr>\n",
       "      <th>2</th>\n",
       "      <td>NaN</td>\n",
       "      <td>NaN</td>\n",
       "      <td>NaN</td>\n",
       "      <td>NaN</td>\n",
       "      <td>NaN</td>\n",
       "      <td>NaN</td>\n",
       "      <td>NaN</td>\n",
       "      <td>NaN</td>\n",
       "      <td>NaN</td>\n",
       "      <td>NaN</td>\n",
       "      <td>...</td>\n",
       "      <td>Acanthophis hawkei</td>\n",
       "      <td>NaN</td>\n",
       "      <td>NaN</td>\n",
       "      <td>NaN</td>\n",
       "      <td>NaN</td>\n",
       "      <td>NaN</td>\n",
       "      <td>NaN</td>\n",
       "      <td>49485486</td>\n",
       "      <td>Acanthophis hawkei</td>\n",
       "      <td>Acanthophis hawkei</td>\n",
       "    </tr>\n",
       "  </tbody>\n",
       "</table>\n",
       "<p>3 rows × 144 columns</p>\n",
       "</div>"
      ],
      "text/plain": [
       "  Afrikaans Albanian Alemannisch Arabic Aragonese Armenian Arpitan Assamese  \\\n",
       "0       NaN      NaN         NaN    NaN       NaN      NaN     NaN      NaN   \n",
       "1       NaN      NaN         NaN    NaN       NaN      NaN     NaN      NaN   \n",
       "2       NaN      NaN         NaN    NaN       NaN      NaN     NaN      NaN   \n",
       "\n",
       "  Asturian Aymara         ...                            Waray Welsh  \\\n",
       "0      NaN    NaN         ...             Acalyptophis peronii   NaN   \n",
       "1      NaN    NaN         ...          Acanthophis antarcticus   NaN   \n",
       "2      NaN    NaN         ...               Acanthophis hawkei   NaN   \n",
       "\n",
       "  Western Frisian Western Mari    Western Punjabi Xhosa Zazaki    pageid  \\\n",
       "0             NaN          NaN  اکالیپٹوفس پیرونی   NaN    NaN  26760494   \n",
       "1             NaN          NaN         موتوالا سپ   NaN    NaN   6166502   \n",
       "2             NaN          NaN                NaN   NaN    NaN  49485486   \n",
       "\n",
       "                   species               title  \n",
       "0        Hydrophis peronii   Hydrophis peronii  \n",
       "1  Acanthophis antarcticus  Common death adder  \n",
       "2       Acanthophis hawkei  Acanthophis hawkei  \n",
       "\n",
       "[3 rows x 144 columns]"
      ]
     },
     "execution_count": 7,
     "metadata": {},
     "output_type": "execute_result"
    }
   ],
   "source": [
    "print(df.shape)\n",
    "df.head(3)"
   ]
  },
  {
   "cell_type": "code",
   "execution_count": 8,
   "metadata": {},
   "outputs": [],
   "source": [
    "#save\n",
    "df.to_csv(os.path.join(path_data,'df_species_language.csv'), index=False, sep=';')"
   ]
  },
  {
   "cell_type": "code",
   "execution_count": null,
   "metadata": {},
   "outputs": [],
   "source": []
  },
  {
   "cell_type": "code",
   "execution_count": null,
   "metadata": {},
   "outputs": [],
   "source": []
  },
  {
   "cell_type": "code",
   "execution_count": null,
   "metadata": {},
   "outputs": [],
   "source": []
  },
  {
   "cell_type": "code",
   "execution_count": null,
   "metadata": {},
   "outputs": [],
   "source": []
  }
 ],
 "metadata": {
  "kernelspec": {
   "display_name": "Python 3",
   "language": "python",
   "name": "python3"
  },
  "language_info": {
   "codemirror_mode": {
    "name": "ipython",
    "version": 3
   },
   "file_extension": ".py",
   "mimetype": "text/x-python",
   "name": "python",
   "nbconvert_exporter": "python",
   "pygments_lexer": "ipython3",
   "version": "3.6.4"
  }
 },
 "nbformat": 4,
 "nbformat_minor": 2
}

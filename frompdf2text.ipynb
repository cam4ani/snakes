{
 "cells": [
  {
   "cell_type": "code",
   "execution_count": 3,
   "metadata": {},
   "outputs": [],
   "source": [
    "#basic package\n",
    "import json\n",
    "import tqdm\n",
    "import os\n",
    "import glob\n",
    "import pandas as pd\n",
    "import sys\n",
    "import shutil\n",
    "import time\n",
    "import re\n",
    "import pickle\n",
    "\n",
    "#to match substring in string\n",
    "import fuzzysearch\n",
    "from fuzzysearch import find_near_matches\n",
    "\n",
    "#access structured data from pdf\n",
    "import PyPDF2\n",
    "from docx import *"
   ]
  },
  {
   "cell_type": "code",
   "execution_count": 4,
   "metadata": {},
   "outputs": [],
   "source": [
    "#root directory of the project\n",
    "ROOT_DIR = os.path.abspath(\"../\")\n",
    "path_data = os.path.join(ROOT_DIR,'datasets/synonyms/synonym_book')"
   ]
  },
  {
   "cell_type": "code",
   "execution_count": 5,
   "metadata": {},
   "outputs": [
    {
     "name": "stderr",
     "output_type": "stream",
     "text": [
      "/home/camille/anaconda3/lib/python3.6/site-packages/h5py/__init__.py:36: FutureWarning: Conversion of the second argument of issubdtype from `float` to `np.floating` is deprecated. In future, it will be treated as `np.float64 == np.dtype(float).type`.\n",
      "  from ._conv import register_converters as _register_converters\n",
      "Using TensorFlow backend.\n",
      "/home/camille/anaconda3/lib/python3.6/site-packages/requests/__init__.py:80: RequestsDependencyWarning: urllib3 (1.22) or chardet (2.3.0) doesn't match a supported version!\n",
      "  RequestsDependencyWarning)\n"
     ]
    }
   ],
   "source": [
    "PACKAGE_PARENT = '../../..'\n",
    "SCRIPT_DIR = os.path.dirname(os.path.realpath(os.path.join(os.getcwd(), os.path.expanduser('__file__'))))\n",
    "sys.path.append(os.path.normpath(os.path.join(SCRIPT_DIR, PACKAGE_PARENT)))\n",
    "\n",
    "from UTILS.utils import from_string_without_whitespace_to_string_withwithespace, extract_bold_text, from_chapter_to_structured_data"
   ]
  },
  {
   "cell_type": "code",
   "execution_count": 4,
   "metadata": {},
   "outputs": [],
   "source": [
    "#using quick pdf converter (free trial) to convert from pdf to doxc. But only until page 90+28 car si non must \n",
    "#buy..... TODO convert all\n",
    "#this notebook is meant to be used on a file that is in doxc and in pdf"
   ]
  },
  {
   "cell_type": "code",
   "execution_count": 5,
   "metadata": {},
   "outputs": [],
   "source": [
    "#strategy:\n",
    "#PyPDF2 is reading the text in the proper order, while python-doxc not. Hence we will use the first one to read text,\n",
    "#and the second to help for splitting. Indeed, unfortunately we can not use the result from pyhton-doxc \n",
    "#(text_no_whitespace_bold) to build a skeleton and then complet, as the order is wrong.\n",
    "\n",
    "#main steps:\n",
    "#1. extract needed data: extract bold-text using python-doxc. create a list of titles and subtitles (bold-data)\n",
    "#2. Using PyPDF2, extract all the text (text-data)\n",
    "#3. take each title and look for closest match in the text, creating  anew list of matched titles (Levinshtein dist.)\n",
    "#4. split the text-data using the list of matched title (dataframe: title, info columns)\n",
    "#5. split the info using subtitles as properties, synonyms etc"
   ]
  },
  {
   "cell_type": "code",
   "execution_count": 6,
   "metadata": {},
   "outputs": [],
   "source": [
    "#Note:\n",
    "#1.for each book such a notebook is necessary. (what makes it hard to automate without mistake: \n",
    "#mistake in the books cf bold, different pattern in each book and eventually chapter,...)"
   ]
  },
  {
   "cell_type": "code",
   "execution_count": 7,
   "metadata": {},
   "outputs": [],
   "source": [
    "#some issues explaining why we need 3.:\n",
    "#when downloaded from PyPDF2 there is '&' while downloading from python-doxc their is no '&' at least in some e.g. :\n",
    "#from text: 1838Œ1849 (Atractaspididae)    from bold: 1838–1849(Atractaspididae)\n",
    "#from text: Wüster & Broadley              from bold: WüsterBroadley\n",
    "#from text: pl. 2, fig. a                  from bold: pl.fig.a\n",
    "#--> we need to use rules as maximum number of caractere that need to be changed to say their ias a match"
   ]
  },
  {
   "cell_type": "code",
   "execution_count": 8,
   "metadata": {},
   "outputs": [],
   "source": [
    "#hypothesis:\n",
    "#bold text is not split within two pages. (otherwise will be problematique)\n",
    "#no two consecutive title or subtitle (always synonyms, or types etc in between)"
   ]
  },
  {
   "cell_type": "markdown",
   "metadata": {},
   "source": [
    "# Get necessary data"
   ]
  },
  {
   "cell_type": "code",
   "execution_count": 9,
   "metadata": {},
   "outputs": [],
   "source": [
    "book_title = '2014 Snakes of the world-A catalogue of living and extinct species.pdf'\n",
    "file_path = os.path.join(path_data,book_title)"
   ]
  },
  {
   "cell_type": "markdown",
   "metadata": {},
   "source": [
    "### extract bold text using python-doxc"
   ]
  },
  {
   "cell_type": "code",
   "execution_count": 10,
   "metadata": {},
   "outputs": [],
   "source": [
    "#document = Document('/home/camille/vm_exchange/Lab/snakes/datasets/synonyms/synonym_book/2014 Snakes of the world-A catalogue of living and extinct species - Copie - Copie.docx')\n",
    "document = Document('/home/camille/vm_exchange/Lab/snakes/datasets/synonyms/synonym_book/2014 Snakes of the world-A catalogue of living and extinct species - chapterA.docx')"
   ]
  },
  {
   "cell_type": "code",
   "execution_count": 11,
   "metadata": {},
   "outputs": [],
   "source": [
    "#extract bold text\n",
    "r = extract_bold_text(document)\n",
    "text_no_whitespace_bold = r.split('Valid Genera and Species')[-1].strip()    "
   ]
  },
  {
   "cell_type": "markdown",
   "metadata": {},
   "source": [
    "### extract information needed for our specific book"
   ]
  },
  {
   "cell_type": "code",
   "execution_count": 12,
   "metadata": {},
   "outputs": [
    {
     "data": {
      "text/plain": [
       "'Type locality:|Synonym:|Type:|Fossil records:|Synonyms:|Sources:|Remarks:|Type species:|Types:|Distribution:|Source:|Comment:|Comments:'"
      ]
     },
     "execution_count": 12,
     "metadata": {},
     "output_type": "execute_result"
    }
   ],
   "source": [
    "#find properties \n",
    "pattern = re.compile(r'(Type species:|Distribution:|Sources:|Remarks:|Type locality:|Type:|Types:|Sources:|Source:|Synonym:|Synonyms:)')\n",
    "li_text_no_whitespace_bold = pattern.split(text_no_whitespace_bold)\n",
    "li_properties = list(set([i.strip() for i in li_text_no_whitespace_bold if (i.strip().endswith(':')) & (len(i)<25)]))\n",
    "#in the book they forgot to put in bold after the properties: comment. hence we need to add it manually\n",
    "li_properties = li_properties+['Comment:','Comments:']\n",
    "# create pattern for properties\n",
    "li_properties\n",
    "pattern_properties = ''\n",
    "for p in li_properties:\n",
    "    pattern_properties = pattern_properties+'|'+p\n",
    "pattern_properties = pattern_properties.strip('|')\n",
    "pattern_properties"
   ]
  },
  {
   "cell_type": "code",
   "execution_count": 13,
   "metadata": {},
   "outputs": [],
   "source": [
    "#create list of titles and list of subtitles\n",
    "li = list(set([i.strip() for i in li_text_no_whitespace_bold if i not in li_properties]))\n",
    "#python-doxc reading sometimes the index in middle of title\n",
    "pattern = re.compile(r'[A-Z]{1}  ')\n",
    "li = [j.strip() for i in li for j in pattern.split(i)]\n",
    "#due to comment mistake:\n",
    "pattern = re.compile(r'Comment  |Comments  ')\n",
    "li = [j.strip() for i in li for j in pattern.split(i)]\n",
    "li = [i for i in li if len(i)>2]\n",
    "li_st = [i.strip() for i in li if i[0].isdigit()]\n",
    "li_t = [i.strip() for i in li if (i[0].isupper()) & (i[1].isupper()) & (i[1].isupper())]"
   ]
  },
  {
   "cell_type": "code",
   "execution_count": 14,
   "metadata": {},
   "outputs": [
    {
     "name": "stdout",
     "output_type": "stream",
     "text": [
      "534\n"
     ]
    }
   ],
   "source": [
    "print(len(li_st+li_t))"
   ]
  },
  {
   "cell_type": "markdown",
   "metadata": {},
   "source": [
    "### extract all text using PyPDF2"
   ]
  },
  {
   "cell_type": "code",
   "execution_count": null,
   "metadata": {},
   "outputs": [
    {
     "name": "stdout",
     "output_type": "stream",
     "text": [
      "There is 1257 page in this pdf\n"
     ]
    }
   ],
   "source": [
    "pdf_file = open(os.path.join(path_data,book_title),'rb')\n",
    "read_pdf = PyPDF2.PdfFileReader(pdf_file)\n",
    "number_of_pages = read_pdf.getNumPages()\n",
    "print('There is %d page in this pdf'%number_of_pages)"
   ]
  },
  {
   "cell_type": "markdown",
   "metadata": {},
   "source": [
    "page = read_pdf.getPage(491+28)   #(159)#(3+28)\n",
    "page_content = page.extractText()\n",
    "page_content.split('\\n')"
   ]
  },
  {
   "cell_type": "markdown",
   "metadata": {},
   "source": [
    "# Put info into structured data"
   ]
  },
  {
   "cell_type": "markdown",
   "metadata": {},
   "source": [
    "### one dataframe per chapter with title and info columns"
   ]
  },
  {
   "cell_type": "code",
   "execution_count": null,
   "metadata": {
    "scrolled": true
   },
   "outputs": [
    {
     "name": "stdout",
     "output_type": "stream",
     "text": [
      "-------------------paragraph: A\n",
      "ANOMOCHILUS Berg, 1901  (nomen substitutum) (Anomochilidae)\n",
      "ARCHELAPHE Schulz, Böhme &amp; Tillack, 2011 (Colubridae)\n",
      "APLOPELTUR A A.-M.-C. Duméril, 1853 (nomen protectum) (Pareatidae)\n",
      "AUSTRELAPS Worre ll, 196 3a (Elapidae)\n",
      "ARIZONA Kennicott in Baird, 1859a (Colubridae)\n",
      "ATRACTASPIS A. Smith, 1849 in 1838–1849 (Atractaspididae)\n",
      "AGKISTRODON Palisot de Beauvois, 1799\n",
      "ASTROTIA J.G. Fischer, 1855 (Elapidae)\n",
      "APARALLACTUS A. Smith, 1849 in 1838–1849 (Atractaspididae)\n",
      "ANTAIOSERPENS Wells &amp; Wellington, 1985 (Elapidae)\n",
      "ASPIDITES W.C.H. Peters, 1877a (nomen substitutum) (Pythonidae)\n",
      "ADELOPHIS Dugès in Cope, 1879 (Natricidae)\n",
      "ASPIDOMORPHUS Fitzinger, 1843 (Elapidae)\n",
      "ACRANTOPHIS Jan, 1860 in JanSordelli, 1860–1866 (Boidae)\n",
      "AMPLORHINUS A. Smith, 1847 in 1838–1849      42. Amphiesma viperinum (Schenkel, 1901). Verh. Naturf. Ges. Basel (1901–1902) 13(1): 155–156. (Xenochrophis viperinus)\n",
      "ANTARESIA Wells &amp; Wellington, 1984 (Pythonidae)\n",
      "ATRETIUM Cope, 1861e (nomen substitutum) (Natricidae)\n",
      "ANOMALEPIS Jan, 1860 in JanSordelli, 1860–1866 (Anomalepididae)\n",
      "9. Alsophis sibonius Cope, 1879. Proc. Amer. Philos. Soc. 18: 275–278.\n",
      "5. Aspidura drummondhayi Boulenger, 1904d. Spolia Zeylan. 2(7): 95–96, pl.,figs.\n",
      "5. Aipysurus fuscus (Tschudi, 1837). Arch. Naturg. 3(1): 335, pl. 8, figs. 1–7. (Stephanohydra fusca)\n",
      "92. Atractus pantostictus R. FernandesPuorto, 1994. Mem. Inst. Butantan 55(Suppl. 1): 8–12, figs. 1–3, 5.\n",
      "12. Atheris matildae Menegon, DavenportHowell, 2011. Zootaxa (3120): 44–50, fig.(left).\n",
      "19. Amphiesma leucomystax David, Bain, Truong,       Orlov, Vogel, ThanhZiegler, 2007. Zootaxa (1462): 43–46, figs. 1–7.\n",
      "2. Apostolepis ambinigra (W.C.H. Peters, 1869). Mber. Königl. Akad. Wiss. Berlin 1869(5): 438–439, pl., fig. 2–2c. (Rhynchonyx ambiniger)\n",
      "64. Atractus major Boulenger, 1894a. Cat. Snakes\n",
      "30. Amphiesma platyceps (Blyth, 1854a). J. Proc. Asiatic Soc. Bengal 23(3): 297–298. (Tropidonotus platyceps)\n",
      "6. Atheris chlorechis (Pel, 1851). Ned.Tijdschr. Jagtkunde 1: 172–173. (Vipera chlorechis)\n",
      "41. Atractus francicopaivai Silva-Haad, 2004. Rev. Acad. Colomb. Cienc. 28(108): 426–428, figs. 24–25.\n",
      "67. Atractus matthewi MarkezichBarrio-Amorgós, 2004. Bull. Maryland Herp. Soc. 40(3): 112–117, figs. 1a, 2.\n",
      "4. Anilios australis Gray, 1845. Cat. Lizards Brit. Mus.: 135.\n",
      "31. Amphiesma popei (K.P. Schmidt, 1925a). Amer. Mus. Novit. (157): 3. (Natrix popei)\n",
      "5. Apostolepis assimilis (J.T. Reinhardt, 1861b). Vidensk. Medd. Naturhist. Foren. Kjøbenhavn (1860) 22: 235–236, pl. 4, figs. 1–5. (Elapomorphus assimilis)\n",
      "7. Ahaetulla prasina (F. Boie, 1827). Isis von Oken 20(6): 545. (Dryophis prasina)\n",
      "53. Atractus insipidus Roze, 1961. Acta Biol. Venez. 3(7): 106–107.\n",
      "1872a). Proc. Zool. Soc. London 40(1): 596. (Tropidonotus sarawacensis)\n",
      "8. Acanthophis wellsi Hoser, 1998b. Monitor 9(2): 37–39,photos. (nomen corrigendum)\n",
      "85. Atractus occidentalis Savage, 1955. Proc. Biol. Soc. Washington 68: 16–17.\n",
      "37. Amphiesma sieboldii (A.C.L.G. Günther, 1860c). Proc. Zool Soc. London 28(1): 156–157. (Herpetoreas sieboldii)\n",
      "132. Atractus werneri Peracca, 1912. Mém. Soc. Neuchâtel Sci. Nat. (1914) 5: 102.\n",
      "2. Aspidites ramsayi (Macleay, 1882). Proc. Linn. Soc. N.S.W. (1881–1882) 6(4): 813. (Aspidiotes ramsayi)\n",
      "16. Atractus boettgeri Boulenger, 1896a. Cat. Snakes Brit. Mus. 3: 645.\n",
      "3. Atropoides nummifer (Rüppell, 1845). Mus. Senck., Amph. 3: 313. (Atropos nummifer)\n",
      "9. Afronaja nigricollis (J.T. Reinhardt, 1843). Kgl. Danske Vidensk. Selsk. Natur. Math. Afh. 10: 269– 272, pl. 3, figs. 5–7. (Naja nigricollis)\n",
      "98. Atractus poeppigi (Jan, 1862b). Arch. Zool. Anat. Fis. 2(1): 11–12, pl. 8, fig. 1. (Rabdosoma pöppigi)\n",
      "99. Atractus potschi R. Fernandes, 1995a. J. Herp. 29(3): 417–418, figs. 1–2.\n",
      "5. Acutotyphlops subocularis (Waite, 1897b). Rec. Aust. Mus. 3(3): 69–70, figs. 1–3. (Typhlops subocularis)\n",
      "20. Atractus caxiuana Prudente &amp; Santos-Costa, 2006. Zootaxa (1285): 22–27, figs. 1–3.\n",
      "9. Atheris hispida Laurent, 1955. Rev. Zool. Bot. Afr. 51(1–2): 138 –139.\n",
      "9. Atractaspis duerdeni Gough, 1907a. Rec. Albany Mus. 2: 178–179,fig.\n",
      "12. Afrotyphlops manni (Loveridge, 1941a). Proc. U.S. Natl. Mus. 91(3128): 118. (Typhlops manni)\n",
      "80. Atractus nicefori Amaral, 1930a. Bull. Antivenin Inst. Amer. 4(2): 28.\n",
      "3. †Arizona voorhiesi ParmleyHolman, 1995. J. Vert. Paleont. 15(1): 80–81, figs. 4a–b.\n",
      "38. Anilios tovelli (Loveridge, 1945a). Proc. Biol. Soc. Washington 58: 111. (Typhlops tovelli)\n",
      "3. Aparallactus jacksonii (A.C.L.G. Günther, 1888c). Ann. Mag. Nat. Hist. (6) 1(3): 325, pl. 19, fig. e. (Uriechis jacksonii)\n",
      "6. Adelphicos veraepacis L.C. Stuart, 1941b. Occ. Pap. Mus. Zool., Univ. Michigan (452): 5–6.\n",
      "32. Anilios pinguis (Waite, 1897a). Trans. Roy. Soc. So. Aust. (1896–1897) 21(1): 25–26, pl. 3, figs. 1–4. (Typhlops pinguis)\n",
      "9. Achalinus werneri Van Denburgh, 1912a. New Rept. Amph. Loo Choo Is.: 8.\n",
      "1. Aplopeltura boa (H. Boie, 1828). Isis von Oken 21(10): 1035. (Amblycephalus boa)\n",
      "10. Amphiesma deschauenseei (E.H. Taylor, 1934). Proc. Acad. Nat. Sci. Philadelphia 86: 300–301, figs. 2–4, pl. 17, fig. 5. (Natrix deschauenseei)\n",
      "73. Atractus microrhynchus (Cope, 1868b). Proc. Acad. Nat. Sci. Philadelphia 20(2): 102. (Rhabdosoma  microrhynchum)\n",
      "114 Atractus tamaensis EsquedaLa Marca, 2005. Herpetotropicos 2(1): 20–22, fig. 19.\n",
      "2. Adelphicos ibarrorum J.A. CampbellBrodie, 1988. Herpetologica 44(4): 416–419, figs. 1–2.\n",
      "3. †Alamitophis tingamarra Scanlon, 2005. Mem. Queensland Mus. 51(1): 224–228, figs. 6c, 7.\n",
      "29. Anilios nigricaudus (Boulenger, 1895i). Proc. Zool. Soc. London 63(4): 867, pl. 49, figs. 1, 1a–b. (Typhlops nigricauda)\n",
      "7. Aipysurus mosaicus K.L. Sanders, Rasmussen,\n",
      "47. Atractus guerreroi C.W. MyersDonnelly, 2008. Bull. Amer. Mus. Nat. Hist. (308): 114–118, figs. 67–69.\n",
      "72 Atractus michelae EsquedaLa Marca, 2005.  68. Atractus medusa Passos, Mueses-Cisneros, Lynch & Fernandes, 2009e. Zootaxa (2293): 15–17, figs. 10a–b, 11.\n",
      "1. Anilius scytale (Linnaeus, 1758). Syst. Nat., ed. 10, 1: 228. (Anguis scytale)\n",
      "18. Atractus caete Passos, Fernandes, Bérnils & Moura-Leite, 2010. Zootaxa (2364): 7–9, figs. 1, 2a, 3a–b.\n",
      "4. Ahaetulla mycterizans (Linnaeus, 1758). Syst. Nat., ed. 10, 1: 226. (Coluber mycterizans)\n",
      "44. Anilios yirrikalae (Kinghorn, 1942). Rec. Aust. Mus. 21(2): 118, fig. 1. (Typhlops yirrikalae)\n",
      "1. Aparallactus capensis A. Smith, 1849 in 1838– 1849. Illust. Zool. So. Africa, Rept. (App.): 16.\n",
      "125. Atractus univittatus (Jan, 1862b). Arch. Zool. Anat. Fis. 2(1): 15. (Rabdosoma univittata)\n",
      "14. Anilios ganei (Aplin, 1998). Rec. West Aust. Mus. 19(1): 7–9, figs. 6–8. (Ramphotyphlops ganei)\n",
      "18. Anilios howi (Storr, 1983). Rec. West. Aust. Mus. 10(4): 315–317, figs. 1–2. (Ramphotyphlops howi)\n",
      "9. Aparallactus nigriceps (W.C.H. Peters, 1854).  Mber. Königl. Akad. Wiss. Berlin 1854(11): 623 (Uriechis nigriceps)\n",
      "22. Anilios ligatus (W.C.H. Peters, 1879). Mber. Königl. Akad. Wiss. Berlin 1879(8): 775, pl., figs. 3, 3a–c. (Typhlops ligatus)\n",
      "1. †Archaeophis proavus Massalongo, 1859. Spec. Photo. Anim. Plant. Foss. Veron.: 14–15, pls. 1–2.\n",
      "3. Amblyodipsas katangensis WitteLaurent, 1942. Rev. Zool. Bot. Afr. 36(2): 113–114.\n",
      "15. Atractus bocourti Boulenger, 1894a. Cat. Snakes Brit. Mus. 2: 306.\n",
      "1. Aspidomorphus lineaticollis (F. Werner, 1903b). Zool. Anz. (1902) 26(693): 251 (footnote). (Pseudelaps muelleri lineaticollis)\n",
      "25. Atractus crassicaudatus (A.-M.-C. Duméril, BibronDuméril, 1854a). Erpét. Gén. 7(1): 103–104. (Rabdosoma crassicaudatum)\n",
      "3. Afronaja crawshayi (A.C.L.G. Günther, 1894b). Proc. Zool. Soc. London (1893) 62(1): 620. (Naja  nigricollis crawshayi)\n",
      "5. Arrhyton supernum HedgesGarrido, 1992a. Herpetologica 48(2): 171, fig. 1b.\n",
      "88. Atractus oculotemporalis Amaral, 1932a. Bull. Antivenin Inst. Amer. 5(3): 67. (Atractus  oculotemporalis) (nomen corrigendum)\n",
      "1. Azemiops feae Boulenger, 1888h. Ann. Mus. Civ. Stor. Nat. Genova (2) 6: 603, pl. 7.\n",
      "42. Atractus francoi Passos, Fernandes, Bérnils &\n",
      "43. Atractus fuliginosus (Hallowell, 1845a). Proc. Acad. Nat. Sci. Philadelphia (1844–45) 2(9): 243– 244. (Coluber fuliginosus)\n",
      "31. Anilios pilbarensis (AplinDonnellan, 1993). Rec. West. Aust. Mus. 16(2): 244–247, figs. 2a–c. (Ramphotyphlops pilbarensis)\n",
      "8. Atheris hirsuta ErnstRödel, 2002. Herpetol. J. 12: 55–57, figs. 2–3.\n"
     ]
    },
    {
     "name": "stdout",
     "output_type": "stream",
     "text": [
      "2. Alluaudina mocquardi Angel, 1939. Bull. Mus. Natl. Hist. Nat. (2) 11(6): 536–538.\n",
      "32. Atractus ecuadorensis Savage, 1955. Proc. Biol. Soc. Washington 68: 15–16.\n",
      "17.Apostolepis intermedia Koslowsky, 1898a. Rev. Mus. La Plata 8: 30–31, pl. 1, figs. 4–7.\n",
      "28. Apostolepis serrana Lema &amp; Renner, 2006b. Cién. Movimento 8(15): 14–15,figs.\n",
      "13. Atractus biseriatus Prado, 1941d. Mem. Inst. Butantan (1940) 14: 26, pl., lower fig.\n",
      "2. Achalinus formosanus Boulenger, 1908h. Ann. Mag. Nat. Hist. (8) 2(8): 222.\n",
      "2. Acutotyphlops infralabialis (Waite, 1918b). Rec. So. Aust. Mus. 1(1): 35–36, fig. 25. (Typhlops infralabialis)\n",
      "6. Afrotyphlops elegans (W.C.H. Peters, 1868a). Mber. Königl. Akad. Wiss. Berlin 1868(7): 450, pl. 2, fig. 1. (Typhlops [Ophthalmidion] elegans)\n",
      "39. Atractus favae (Filippi, 1840). Biblio. Ital. 99: 16.  35. Atractus emigdioi Gonzáles Sponga, 1971. Monogr. Cientif. Inst. Pedagogico (3): 3–4, figs. 2–5.\n",
      "1. Antaresia childreni (Gray, 1842a). Zool. Misc. 2(Mar.): 44. (Liasis childreni)\n",
      "2. †Albaneryx volynicus Zerova, 1989. Vestn. Zool. 1989(5): 31–35, figs. 1–12.\n",
      "16. Atheris subocularis J.G. Fischer, 1888a. Jahrb. Hamburg. Wiss. Anst. 5: 5, pl. 1, figs. 2a–e, pl.fig. 11.\n",
      "30. Atractus dunni Savage, 1955. Proc. Biol. Soc. Washington 68: 14–15.\n",
      "1. †Albaneryx depereti HoffstetterRage, 1972. Ann. Paleont. (Vert.) 58(1): 105–107, fig. 9, pl. 1, fig. 6.\n",
      "2. Aspidomorphus muellerii (Schlegel, 1837). Essai Phys. Serp. 1: 182, 2: 452–454, pl. 16, figs. 16–17. Elaps muellerii) (nomen corrigendum\n",
      "75. Atractus modestus Boulenger, 1894a. Cat. Snakes Brit. Mus. 2: 304, pl. 15, fig. 1.\n",
      "8. Apostolepis cearensis J. Gomés, 1915. Ann. Paul. Med. Cirurg. 4(6): 122–123, pl. 3, figs. 4–8.\n",
      "1. Amphiesma andreae ZieglerLe, 2006. Zootaxa (1225): 41–47, figs. 1–8.\n",
      "18. Apostolepis lineata Cope, 1887b. Proc. Amer. Philos. Soc. 24(125): 56. (Apostolepis erythronotus lineatus)\n",
      "5. Atractus andinus Prado, 1944. Ciencia 5(4–5): 111, fig. 1.\n",
      "54. Atractus iridescens Peracca, 1896b. Boll. Mus. Zool. Anat. Comp. Univ. Torino 11(252): 2–3,fig.\n",
      "5. Amblyodipsas polylepis (Bocage, 1873a). J. Sci. Math. Phys. Nat., Lisboa 4(15): 216–217. (Calamelaps polylepis)\n",
      "7. Aspidura trachyprocta Cope, 1860d. Proc. Acad. Nat. Sci. Philadelphia 12(2): 75–76.\n",
      "112. Atractus surucuru PrudentePassos, 2008. J. Herp. 42(4): 724–727, figs. 1–2.\n",
      "1. Anilios affinis (Boulenger, 1889b). Ann. Mag. Nat. Hist. (6) 4(23): 363. (Typhlops affinis)\n",
      "2. Anomochilus monticola I. Das, Lakim, LimHui, 2008. J. Herp. 42(3): 585–588, fig. 1.\n",
      "120. Atractus trihedrurus Amaral, 1926a. Arch. Mus. Nac. Brazil 26: 105–106, pl.figs. 1–4.\n",
      "30. Apostolepis tenuis Ruthven, 1927. Occ. Pap. Mus. Zool., Univ. Michigan (188): 1–2.\n",
      "1. Apodora papuana (W.C.H. PetersDoria, 1878). Ann. Mus. Civ. Stor. Nat. Genova 13: 400–401, pl. 3, figs. 1–1b. (Liasis papuanus)\n",
      "62. Atractus macondo Passos, LynchFernandes, 2008. Herpet. J. 18: 180–181, fig. 5.\n",
      "9. Amphiesma craspedogaster (Boulenger, 1899b). Proc. Zool. Soc. London 67(1): 163, pl. 17, fig. 1. (Tropidonotus craspedogaster)\n",
      "26. Anilios minimus (Kinghorn, 1929). Rec. Aust. Mus. 17(4): 190–191, fig. 1. (Typhlops minimus)\n",
      "8. Aparallactus niger Boulenger, 1897a. Ann. Mag. Nat. Hist. (6) 19(110): 154.\n",
      "4. Apostolepis arenaria Rodrigues, 1993a. Mem. Inst. Butantan (1992) 54(2): 54–55, figs. 1–2. Apostolepis arenarius\n",
      "6. Amphiesma boulengeri (Gressitt, 1937). Proc. Biol. Soc. Washington 50: 125–127. (Natrix boulengeri)\n",
      "34. Anilios proximus (Waite, 1893). Rec. Aust. Mus. 2(5): 60–62, pl. 15, figs. 3–4. (Typhlops proximus)\n",
      "1. Agkistrodon bilineatus A.C.L.G. Günther, 1863c. Ann. Mag. Nat. Hist. (3) 12(71): 364. (Ancistrodon bilineatus)\n",
      "59. Atractus limitaneus (Amaral, 1935c). Mem. Inst. Butantan 9: 219–210, figs. 1–3. (Leptocalamus limitaneus)\n",
      "20. Atractaspis reticulata Sjöstedt, 1896. Zool Anz. 19: 516–517.\n",
      "14. Apostolepis freitasi Lema, 2004a. Comun. Mus. Cienc. Tecnol. PUCRS (Zool.) 17(1): 4–6, figs. 1a–d.\n",
      "66. Atractus mariselae Lancini, 1969. Publ. Ocas. Mus. Cienc. Nat. (15): 4–5, figs. 1–3.\n",
      "119. Atractus torquatus (A.-M.-C. Duméril, Bibron & Duméril, 1854a). Erpét. Gén. 7(1): 101–103. (Rabdosoma torquatum)\n",
      "63. Atractus maculatus (A.C.L.G. Günther, 1858). Cat. Colub. Snakes Brit. Mus.: 204–205. (Isoscelis maculata)\n",
      "11. Atractaspis engdahli Lönnberg &amp; Andersson, 1913b. Arkiv Zool. 8(20): 5–6, fig. 1.\n",
      "1. †Afronaja antiqua (Rage, 1976). Géol. Méditerr. 3(2): 61–63, figs. 5–6. (†Naja antiqua)\n",
      "3. Adelphicos latifasciatum LynchSmith, 1966. Trans. Kansas Acad. Sci. 69(1): 66–68, fig. 3c. (Adelphicos veraepacis latifasciatus)\n",
      "4. Atheris broadleyi D. Lawson, 1999. Proc. Biol. Soc. Washington 112(4): 794–797, fig. 1–2.\n",
      "3. Arrhyton procerum HedgesGarrido, 1992a. Herpetologica 48(2): 174–175, fig. 3a.\n",
      "129. Atractus vertebralis Boulenger, 1904b. Ann. Mag. Nat. Hist. (7) 13(78): 451.\n",
      "19. Apostolepis longicaudata Gomés in Am aral, 1921. Ann. Paul. Med. Cirurg. 9(7–8): 110–111, pl. A, figs. 4 –7.\n",
      "43. Anilios yampiensis (Storr, 1981d). Rec. West. Aust. Mus. 9(3): 268–269, fig. 32. (Typhlops yampiensis)\n",
      "2. Aparallactus guentheri Boulenger, 1895d. Ann. Mag. Nat. Hist. (6) 16(92): 172.\n",
      "2. Antaresia maculosa (W.C.H. Peters, 1873c). Mber. Königl. Akad. Wiss. Berlin 1873(10): 608–609. (Liasis  maculosus)\n",
      "78. Atractus nasutus Passos, Arredondo, Fernandes & Lynch, 2009c. Copeia 2009(3): 425–428, fig. 1.\n",
      "40. Amphiesma venningi (Wall, 1910j). J. Bombay Nat. Hist. Soc. (1910–19011) 20(2): 345–346. (Tropidonotus venningi)\n",
      "2. Anilioides nebraskensis Holman, 1976b. Herpetologica 32(1): 91–92, figs. 3a–d.\n",
      "1. Aeluroglena cucullata Boulenger, 1898e. Ann. Mag. Nat. Hist. (7) 2(8): 132–133.\n",
      "2. Anilios ammodytes (Montague, 1914). Proc.  Zool. Soc. London 84(3): 642–643, pl. 1, figs. 8–10. (Typhlops ammodytes)\n",
      "17.Anilios hamatus (Storr, 1981d). Rec. West. Aust. Mus. 9(3): 251–254, fig. 15. (Ramphotyphlops hamatus)\n",
      "2. †Acrochordus dehmi Hoffstetter, 1964. Bull. Soc. Géol. France (7) 6(4): 467–473, fig. 2a.\n",
      "34. Atractus elaps (A.C.L.G. Günther, 1858). Cat. Colub. Snakes Brit. Mus.: 241–242. (Rhabdosoma  elaps)\n",
      "133. Atractus zebrinus (Jan, 1862b). Arch. Zool. Anat. Phys. 2(1): 11, 15–16, pl. 8, fig. 3rd (Rabdosoma zebrinum)\n",
      "74. Atractus mijaresi EsquedaLa Marca, 2005. Herpetotropicos 2(1): 16–17, figs. 14–15.\n",
      "33. Atractus edioi N.J. Silva, Rodrigues-Silva, Ribeiro, SouzaSouza, 2005. Pap. Avul. Zool. 49(3): 34–36, figs. 2a–b.\n",
      "7. Achalinus rufescens Boulenger, 1888c. Ann. Mag. Nat. Hist. (6) 2(7): 43.\n",
      "1. Atretium schistosum (Daudin, 1803d). Hist. Nat. Rep. 7: 132–133. (Coluber schistosus)\n",
      "1. Aprosdoketophis andreonei Wallach, Lanza & Nistri, 2010. Afr. J. Herp. 59(2): 99–102,figs.\n",
      "9. Atractus attenuatus C.W. MyersSchargel, 2006. Amer. Mus. Novit. (3532): 2–6, figs. 1–3.\n",
      "1. Anomalophis bolcensis (Massalongo, 1859). Spec. Photo. Anim. Plant. Foss. Veronensis: 15–16, pls. 3–4. (Archaeophis bolcensis)\n",
      "69. Atractus melanogaster F. Werner, 1916. Zool. Anz. 47(11): 309.\n",
      "4. Aparallactus lineatus (W.C.H. Peters, 1870b). Mber. Königl. Akad. Wiss. Berlin 1870(8): 643–644, pl. 1, figs. 3, 3a–c. (Uriechis [Metopophis] lineatus)\n",
      "13. Amphiesma groundwateri (M.A. Smith, 1922a). J. Nat. Hist. Soc. Siam 4(4): 205–206, pl. 8, fig. 2. (Natrix groundwateri)\n",
      "48. Atractus heliobelluomini Silva-Haad, 2004. Rev. Acad. Colomb. Cienc. 28(108): 428–429, figs. 28–29.\n",
      "7 7. Atractus multidentatus Passos, Rivas-Fuenmayor & Barrio-Amorgós, 2009b. Amphibia-Reptilia 30(2): 236–238, figs. 3 –4.\n",
      "8. Aipysurus pooleorum L.A. Smith, 1974. Rec. West. Aust. Mus. 3(2): 97–98. (Aipysurus laevis pooleorum)\n",
      "3. Aspidomorphus schlegelii (A.C.L.G. Günther, 1872b). Ann. Mag. Nat. Hist. (4) 9(49): 35. (Diemenia schlegelii)\n",
      "10. Aparallactus turneri Loveridge, 1935. Bull. Mus. Comp. Zool. 79(1): 9–10.\n",
      "131. Atractus wagleri Prado, 1945. Ciencia 6(2): 61, fig. 1.\n",
      "111. Atractus steyermarki Roze, 1958c. Acta Biol. Venez. 2(25): 301–302.\n",
      "3. Atheris barbouri Loveridge, 1930. Proc. New England Zool. Club 11: 107–108.\n",
      "49. Atractus hoogmoedi Prudente &amp; Passos, 2010. Copeia 2010(3): 397–399, figs. 1b, 3.\n",
      "15. Amphiesma ishigakiense (Malnate &amp; Munsterman, 1960). Proc. California Acad. Sci. (4) 31(2): 61–63, fig. 2. (Natrix pryeri ishigakiensis)\n",
      "1. Afrotyphlops angeli (Guibé, 1952). Bull. Mus. Nat. Hist. Paris (2) 24(1): 79. (Typhlops angeli)\n"
     ]
    },
    {
     "name": "stdout",
     "output_type": "stream",
     "text": [
      "8. Atractus atratus PassosLynch, 2010. Herpetol. Monogr. (24): 154–156, figs. 5, 6a–b.\n",
      "1. Atropoides indomitus E.N. SmithFerrari-Castro, 2008. Zootaxa (1948): 59–66, figs. 1–4.\n",
      "11. Amphiesma flavifrons (Boulenger, 1887b). Ann. Mag. Nat. Hist. (5) 20(116): 96. (Tropidonotus flavifrons)\n",
      "22. Atractus chthonius PassosLynch, 2010. Herpetol. Monogr. (24): 157–159, figs. 7a–c, 8a–b.\n"
     ]
    }
   ],
   "source": [
    "#for this specific book: add all page text info of a chapter, then create strucutred data for this chapter and\n",
    "#continue with the next one\n",
    "chapter_content = ''\n",
    "for i in range(3+28,811+28):\n",
    "    \n",
    "    #print(i)\n",
    "    page = read_pdf.getPage(i)\n",
    "    page_content = page.extractText()\n",
    "    li_page = page_content.split('\\n')\n",
    "    li_page_clean = li_page.copy()\n",
    "    \n",
    "    ### if empty page pass it ###\n",
    "    if len(li_page)<2:\n",
    "        pass \n",
    "    \n",
    "    ### if in middle of chapter ###\n",
    "    elif 'Snakes of the World' in li_page[0]:\n",
    "        page_nbr = li_page[0].split('Snakes of the World')[0]\n",
    "        \n",
    "        #remove the page if it starts with the number, otherwise it means that its a new paragraph (i.e. not having \n",
    "        #the page written on the top...but then it should not have snakes of the world written)\n",
    "        if li_page[1].startswith(page_nbr):\n",
    "            first_element = li_page[1].split(page_nbr)[-1]\n",
    "            li_page_clean = [first_element] + li_page[2:]\n",
    "        else:\n",
    "            print('snakes of the world but no new paragraph weird! check on book page %s'%(i-28))\n",
    "        #add info of this page to the chapter\n",
    "        chapter_content = chapter_content + ' ' + ' '.join(li_page_clean)\n",
    "    elif 'Snakes of the World' in li_page[1]:    \n",
    "        page_nbr = li_page[0]\n",
    "        if li_page[0]!=li_page[2]:\n",
    "            print('weird! show page %d'%i)\n",
    "        li_page_clean = li_page[3:]\n",
    "        \n",
    "    ### if new paragraph, remove page and keep rest as title ### \n",
    "    else:\n",
    "        #if not first paragraph, register all info you have of the paragraph from before\n",
    "        if chapter_content!='':\n",
    "            start_time = time.time()\n",
    "            R, title_not_matched, li_matched_title, li_distance = from_chapter_to_structured_data(text=chapter_content, \n",
    "                                                                                                  li_title=li_t+li_st)\n",
    "            print(\"--- %s seconds ---\" % round(time.time() - start_time, 2))\n",
    "            li_title = [R[i] for i in range(len(R)) if i%2==0]\n",
    "            li_info = [R[i] for i in range(len(R)) if i%2!=0]\n",
    "            print(len(li_title[0:-1]), len(li_info))\n",
    "            l = max(len(li_title), len(li_info))\n",
    "            df = pd.DataFrame.from_dict({'title':li_title[0:l], 'info':li_info[0:l]})\n",
    "            df.to_csv(os.path.join(path_data,'df_info_chapter_'+title+'.csv'), index=False, sep=';')\n",
    "            pickle.dump(title_not_matched, open(os.path.join(path_data,'li_title_notmatched_'+title+'.pkl'), 'wb'))\n",
    "            pickle.dump(li_matched_title, open(os.path.join(path_data,'li_matched_title_'+title+'.pkl'), 'wb'))\n",
    "            pickle.dump(li_distance, open(os.path.join(path_data,'li_distance_'+title+'.pkl'), 'wb'))\n",
    "\n",
    "        #otherwise, pass to the next one\n",
    "        #remove any digits from the first element of the page\n",
    "        first_element = (' '.join(li_page[0:2]).lstrip('0123456789')).strip().strip('ƒ')\n",
    "        #print(first_element, li_page[0], li_page[0].split(first_element))\n",
    "        page_nbr = li_page[0].split(first_element)[0]\n",
    "        title = first_element[0]\n",
    "        print('-------------------paragraph: %s'%title)\n",
    "        first_element = first_element[1:]\n",
    "        li_page_clean = [first_element] + li_page[2:]\n",
    "        #add info of this page to the chapter\n",
    "        chapter_content = ' '.join(li_page_clean)\n",
    "        "
   ]
  },
  {
   "cell_type": "markdown",
   "metadata": {
    "scrolled": true
   },
   "source": [
    "start_time = time.time()\n",
    "R = from_chapter_to_structured_data(text=chapter_content, li_title=li_t+li_st)\n",
    "print(\"--- %s seconds ---\" % round(time.time() - start_time, 2))"
   ]
  },
  {
   "cell_type": "markdown",
   "metadata": {},
   "source": [
    "#examples for find near match\n",
    "title = 'AFROTYPHLOPSBroadleyWallach,2009(Typhlopidae)'\n",
    "text = ''.join(chapter_content.split(' '))\n",
    "r = find_near_matches(title, text, max_l_dist=2, max_deletions=max(int(0.05*len(title)),1), \n",
    "                      max_insertions=1, max_substitutions=0)\n",
    "print(r)\n",
    "new_title = text[r[0][0]:r[0][1]]\n",
    "new_title"
   ]
  },
  {
   "cell_type": "markdown",
   "metadata": {},
   "source": [
    "### add info to df (properties)"
   ]
  },
  {
   "cell_type": "code",
   "execution_count": null,
   "metadata": {},
   "outputs": [],
   "source": [
    "#TODO"
   ]
  },
  {
   "cell_type": "code",
   "execution_count": null,
   "metadata": {},
   "outputs": [],
   "source": []
  },
  {
   "cell_type": "code",
   "execution_count": null,
   "metadata": {},
   "outputs": [],
   "source": []
  },
  {
   "cell_type": "code",
   "execution_count": null,
   "metadata": {},
   "outputs": [],
   "source": []
  },
  {
   "cell_type": "code",
   "execution_count": null,
   "metadata": {},
   "outputs": [],
   "source": []
  },
  {
   "cell_type": "code",
   "execution_count": null,
   "metadata": {},
   "outputs": [],
   "source": []
  },
  {
   "cell_type": "code",
   "execution_count": null,
   "metadata": {},
   "outputs": [],
   "source": []
  },
  {
   "cell_type": "code",
   "execution_count": null,
   "metadata": {},
   "outputs": [],
   "source": []
  },
  {
   "cell_type": "code",
   "execution_count": null,
   "metadata": {},
   "outputs": [],
   "source": []
  },
  {
   "cell_type": "code",
   "execution_count": null,
   "metadata": {},
   "outputs": [],
   "source": []
  }
 ],
 "metadata": {
  "kernelspec": {
   "display_name": "Python 3",
   "language": "python",
   "name": "python3"
  },
  "language_info": {
   "codemirror_mode": {
    "name": "ipython",
    "version": 3
   },
   "file_extension": ".py",
   "mimetype": "text/x-python",
   "name": "python",
   "nbconvert_exporter": "python",
   "pygments_lexer": "ipython3",
   "version": "3.6.4"
  }
 },
 "nbformat": 4,
 "nbformat_minor": 2
}

{
 "cells": [
  {
   "cell_type": "code",
   "execution_count": 1,
   "metadata": {},
   "outputs": [],
   "source": [
    "#basic package\n",
    "import json\n",
    "import tqdm\n",
    "import os\n",
    "import numpy\n",
    "import glob\n",
    "import pandas as pd\n",
    "import sys\n",
    "import shutil\n",
    "from PIL import Image\n",
    "import pickle\n",
    "import cv2\n",
    "import urllib.request\n",
    "import random \n",
    "\n",
    "#plot (for image verification)\n",
    "import matplotlib.cm as cm\n",
    "%matplotlib inline\n",
    "from matplotlib import pyplot as plt"
   ]
  },
  {
   "cell_type": "code",
   "execution_count": 2,
   "metadata": {},
   "outputs": [],
   "source": [
    "# Root directory of the project\n",
    "ROOT_DIR = os.path.abspath(\"../\")\n",
    "path_data = os.path.join(ROOT_DIR,'datasets')"
   ]
  },
  {
   "cell_type": "code",
   "execution_count": 3,
   "metadata": {},
   "outputs": [
    {
     "name": "stderr",
     "output_type": "stream",
     "text": [
      "/home/camille/anaconda3/lib/python3.6/site-packages/h5py/__init__.py:36: FutureWarning: Conversion of the second argument of issubdtype from `float` to `np.floating` is deprecated. In future, it will be treated as `np.float64 == np.dtype(float).type`.\n",
      "  from ._conv import register_converters as _register_converters\n",
      "Using TensorFlow backend.\n"
     ]
    }
   ],
   "source": [
    "PACKAGE_PARENT = '../../..'\n",
    "SCRIPT_DIR = os.path.dirname(os.path.realpath(os.path.join(os.getcwd(), os.path.expanduser('__file__'))))\n",
    "sys.path.append(os.path.normpath(os.path.join(SCRIPT_DIR, PACKAGE_PARENT)))\n",
    "\n",
    "from UTILS.utils import split_test_train_within_cat"
   ]
  },
  {
   "cell_type": "code",
   "execution_count": 4,
   "metadata": {},
   "outputs": [],
   "source": [
    "# the idea is to produce a dataframe with the following images information: \n",
    "#'saved_img_id','id','datetaken','latitude','longitude','photographer','license','url','img_path','species',\n",
    "#'species_word', 'species_word_source', 'datasource'\n",
    "li_info = ['saved_img_id','id','datetaken','latitude','longitude','ind_unit','license','url','img_path',\n",
    "           'species','species_word', 'datasource']"
   ]
  },
  {
   "cell_type": "markdown",
   "metadata": {},
   "source": [
    "# Download data"
   ]
  },
  {
   "cell_type": "markdown",
   "metadata": {},
   "source": [
    "## flickr"
   ]
  },
  {
   "cell_type": "code",
   "execution_count": 5,
   "metadata": {},
   "outputs": [],
   "source": [
    "#species word with only one letter are equal actually to the species itself (due to soe error I made initially but\n",
    "#which is now corrected)\n",
    "#TODO: replace those"
   ]
  },
  {
   "cell_type": "code",
   "execution_count": 6,
   "metadata": {},
   "outputs": [
    {
     "name": "stdout",
     "output_type": "stream",
     "text": [
      "(57828, 33)\n"
     ]
    },
    {
     "data": {
      "text/html": [
       "<div>\n",
       "<style scoped>\n",
       "    .dataframe tbody tr th:only-of-type {\n",
       "        vertical-align: middle;\n",
       "    }\n",
       "\n",
       "    .dataframe tbody tr th {\n",
       "        vertical-align: top;\n",
       "    }\n",
       "\n",
       "    .dataframe thead th {\n",
       "        text-align: right;\n",
       "    }\n",
       "</style>\n",
       "<table border=\"1\" class=\"dataframe\">\n",
       "  <thead>\n",
       "    <tr style=\"text-align: right;\">\n",
       "      <th></th>\n",
       "      <th>id</th>\n",
       "      <th>species_word</th>\n",
       "      <th>accuracy</th>\n",
       "      <th>context</th>\n",
       "      <th>datetaken</th>\n",
       "      <th>datetakengranularity</th>\n",
       "      <th>datetakenunknown</th>\n",
       "      <th>description</th>\n",
       "      <th>farm</th>\n",
       "      <th>geo_is_contact</th>\n",
       "      <th>...</th>\n",
       "      <th>secret</th>\n",
       "      <th>server</th>\n",
       "      <th>species</th>\n",
       "      <th>tags</th>\n",
       "      <th>title</th>\n",
       "      <th>url_c</th>\n",
       "      <th>width_c</th>\n",
       "      <th>woeid</th>\n",
       "      <th>saved_img_id</th>\n",
       "      <th>img_path</th>\n",
       "    </tr>\n",
       "  </thead>\n",
       "  <tbody>\n",
       "    <tr>\n",
       "      <th>0</th>\n",
       "      <td>6796830748</td>\n",
       "      <td>['l', 'Pseudoelaps atropolios', 'Aspidomorphus...</td>\n",
       "      <td>0.0</td>\n",
       "      <td>0.0</td>\n",
       "      <td>2012-02-29 19:14:05</td>\n",
       "      <td>0.0</td>\n",
       "      <td>0.0</td>\n",
       "      <td>{'_content': 'Lamington National Park, Qld'}</td>\n",
       "      <td>8.0</td>\n",
       "      <td>NaN</td>\n",
       "      <td>...</td>\n",
       "      <td>3b0faf2da2</td>\n",
       "      <td>7204.0</td>\n",
       "      <td>Cacophis squamulosus</td>\n",
       "      <td>NaN</td>\n",
       "      <td>Cacophis squamulosus (Golden-crowned Snake)</td>\n",
       "      <td>https://farm8.staticflickr.com/7204/6796830748...</td>\n",
       "      <td>800.0</td>\n",
       "      <td>NaN</td>\n",
       "      <td>flickr_Cacophis squamulosus_6796830748.png</td>\n",
       "      <td>/home/camille/vm_exchange/Lab/snakes/datasets/...</td>\n",
       "    </tr>\n",
       "    <tr>\n",
       "      <th>1</th>\n",
       "      <td>6797027978</td>\n",
       "      <td>['California kingsnake']</td>\n",
       "      <td>0.0</td>\n",
       "      <td>0.0</td>\n",
       "      <td>2011-04-22 14:11:35</td>\n",
       "      <td>0.0</td>\n",
       "      <td>0.0</td>\n",
       "      <td>{'_content': 'Santa Clara County 4/22/2012'}</td>\n",
       "      <td>8.0</td>\n",
       "      <td>NaN</td>\n",
       "      <td>...</td>\n",
       "      <td>b5d546df2e</td>\n",
       "      <td>7203.0</td>\n",
       "      <td>Lampropeltis californiae</td>\n",
       "      <td>NaN</td>\n",
       "      <td>California Kingsnake</td>\n",
       "      <td>https://farm8.staticflickr.com/7203/6797027978...</td>\n",
       "      <td>800.0</td>\n",
       "      <td>NaN</td>\n",
       "      <td>flickr_Lampropeltis californiae_6797027978.png</td>\n",
       "      <td>/home/camille/vm_exchange/Lab/snakes/datasets/...</td>\n",
       "    </tr>\n",
       "    <tr>\n",
       "      <th>2</th>\n",
       "      <td>6799008978</td>\n",
       "      <td>['Emerald tree boa']</td>\n",
       "      <td>0.0</td>\n",
       "      <td>0.0</td>\n",
       "      <td>2012-03-01 16:24:59</td>\n",
       "      <td>0.0</td>\n",
       "      <td>1.0</td>\n",
       "      <td>{'_content': 'emerald tree boa wpz'}</td>\n",
       "      <td>8.0</td>\n",
       "      <td>NaN</td>\n",
       "      <td>...</td>\n",
       "      <td>c93e0025bd</td>\n",
       "      <td>7181.0</td>\n",
       "      <td>Corallus caninus</td>\n",
       "      <td>park tree woodland zoo snake boa emerald seatl...</td>\n",
       "      <td>emerald tree boa wpz 100_0301R3</td>\n",
       "      <td>https://farm8.staticflickr.com/7181/6799008978...</td>\n",
       "      <td>800.0</td>\n",
       "      <td>NaN</td>\n",
       "      <td>flickr_Corallus caninus_6799008978.png</td>\n",
       "      <td>/home/camille/vm_exchange/Lab/snakes/datasets/...</td>\n",
       "    </tr>\n",
       "  </tbody>\n",
       "</table>\n",
       "<p>3 rows × 33 columns</p>\n",
       "</div>"
      ],
      "text/plain": [
       "           id                                       species_word  accuracy  \\\n",
       "0  6796830748  ['l', 'Pseudoelaps atropolios', 'Aspidomorphus...       0.0   \n",
       "1  6797027978                           ['California kingsnake']       0.0   \n",
       "2  6799008978                               ['Emerald tree boa']       0.0   \n",
       "\n",
       "   context            datetaken  datetakengranularity  datetakenunknown  \\\n",
       "0      0.0  2012-02-29 19:14:05                   0.0               0.0   \n",
       "1      0.0  2011-04-22 14:11:35                   0.0               0.0   \n",
       "2      0.0  2012-03-01 16:24:59                   0.0               1.0   \n",
       "\n",
       "                                    description  farm  geo_is_contact  \\\n",
       "0  {'_content': 'Lamington National Park, Qld'}   8.0             NaN   \n",
       "1  {'_content': 'Santa Clara County 4/22/2012'}   8.0             NaN   \n",
       "2          {'_content': 'emerald tree boa wpz'}   8.0             NaN   \n",
       "\n",
       "                         ...                              secret  server  \\\n",
       "0                        ...                          3b0faf2da2  7204.0   \n",
       "1                        ...                          b5d546df2e  7203.0   \n",
       "2                        ...                          c93e0025bd  7181.0   \n",
       "\n",
       "                    species  \\\n",
       "0      Cacophis squamulosus   \n",
       "1  Lampropeltis californiae   \n",
       "2          Corallus caninus   \n",
       "\n",
       "                                                tags  \\\n",
       "0                                                NaN   \n",
       "1                                                NaN   \n",
       "2  park tree woodland zoo snake boa emerald seatl...   \n",
       "\n",
       "                                         title  \\\n",
       "0  Cacophis squamulosus (Golden-crowned Snake)   \n",
       "1                         California Kingsnake   \n",
       "2              emerald tree boa wpz 100_0301R3   \n",
       "\n",
       "                                               url_c  width_c  woeid  \\\n",
       "0  https://farm8.staticflickr.com/7204/6796830748...    800.0    NaN   \n",
       "1  https://farm8.staticflickr.com/7203/6797027978...    800.0    NaN   \n",
       "2  https://farm8.staticflickr.com/7181/6799008978...    800.0    NaN   \n",
       "\n",
       "                                     saved_img_id  \\\n",
       "0      flickr_Cacophis squamulosus_6796830748.png   \n",
       "1  flickr_Lampropeltis californiae_6797027978.png   \n",
       "2          flickr_Corallus caninus_6799008978.png   \n",
       "\n",
       "                                            img_path  \n",
       "0  /home/camille/vm_exchange/Lab/snakes/datasets/...  \n",
       "1  /home/camille/vm_exchange/Lab/snakes/datasets/...  \n",
       "2  /home/camille/vm_exchange/Lab/snakes/datasets/...  \n",
       "\n",
       "[3 rows x 33 columns]"
      ]
     },
     "execution_count": 6,
     "metadata": {},
     "output_type": "execute_result"
    }
   ],
   "source": [
    "#save metadata info (might not be of same size of number of collected images)\n",
    "df_flickr = pd.read_csv(os.path.join(path_data,'flickr','flickr_image_info.csv'), sep=';', header=0, index_col=False)\n",
    "print(df_flickr.shape)\n",
    "df_flickr.head(3)"
   ]
  },
  {
   "cell_type": "markdown",
   "metadata": {},
   "source": [
    "### remove potentially bad images"
   ]
  },
  {
   "cell_type": "code",
   "execution_count": 7,
   "metadata": {},
   "outputs": [],
   "source": [
    "#TODO: with tags: place, landscape eggs etc\n",
    "#df_flickr['has_egg'] = df_flickr['description'].map(lambda x: 'eggs' in x)"
   ]
  },
  {
   "cell_type": "code",
   "execution_count": 8,
   "metadata": {},
   "outputs": [],
   "source": [
    "#wrong! this is a snake!\n",
    "#Image.open( urllib.request.urlopen(url))"
   ]
  },
  {
   "cell_type": "code",
   "execution_count": 9,
   "metadata": {},
   "outputs": [
    {
     "name": "stdout",
     "output_type": "stream",
     "text": [
      "(57828, 33)\n",
      "(56840, 33)\n"
     ]
    }
   ],
   "source": [
    "#Boa constrictor vs Boa imperator should be removed form flickr after some discussion with Andrew\n",
    "#hence, we will remove from the aggregated csv file, but keep it in the folder. \n",
    "print(df_flickr.shape)\n",
    "df_flickr = df_flickr[~df_flickr['species'].isin(['Boa constrictor', 'Boa imperator'])]\n",
    "print(df_flickr.shape)"
   ]
  },
  {
   "cell_type": "markdown",
   "metadata": {},
   "source": [
    "df_flickr['nbr_species_word'] = df_flickr['species_word'].map(lambda x: len(eval(x)))\n",
    "df_flickr[df_flickr['nbr_species_word']==1]\n",
    "df_flickr['suspect'] = df_flickr.apply(lambda x: len(eval(x['species_word'])[0])==1 if x['nbr_species_word']==1 else False,\n",
    "                                      axis=1)\n",
    "url = df_flickr[df_flickr['suspect']].iloc[10]['url']\n",
    "Image.open( urllib.request.urlopen(url))"
   ]
  },
  {
   "cell_type": "markdown",
   "metadata": {},
   "source": [
    "### preprocessing"
   ]
  },
  {
   "cell_type": "code",
   "execution_count": 10,
   "metadata": {},
   "outputs": [],
   "source": [
    "#add independant unit variable (not using the date as its better not to trust it... qulity seemed quite bad)\n",
    "df_flickr['ind_unit'] = df_flickr.apply(lambda x: 'flickr_'+x['owner']+'_'+x['species'], axis=1)\n",
    "df_flickr['datasource'] = 'flickr'\n",
    "df_flickr = df_flickr.rename(columns={'url_c':'url'})\n",
    "df_flickr = df_flickr.filter(li_info)"
   ]
  },
  {
   "cell_type": "code",
   "execution_count": 11,
   "metadata": {},
   "outputs": [
    {
     "name": "stdout",
     "output_type": "stream",
     "text": [
      "(56840, 12)\n"
     ]
    },
    {
     "data": {
      "text/html": [
       "<div>\n",
       "<style scoped>\n",
       "    .dataframe tbody tr th:only-of-type {\n",
       "        vertical-align: middle;\n",
       "    }\n",
       "\n",
       "    .dataframe tbody tr th {\n",
       "        vertical-align: top;\n",
       "    }\n",
       "\n",
       "    .dataframe thead th {\n",
       "        text-align: right;\n",
       "    }\n",
       "</style>\n",
       "<table border=\"1\" class=\"dataframe\">\n",
       "  <thead>\n",
       "    <tr style=\"text-align: right;\">\n",
       "      <th></th>\n",
       "      <th>saved_img_id</th>\n",
       "      <th>id</th>\n",
       "      <th>datetaken</th>\n",
       "      <th>latitude</th>\n",
       "      <th>longitude</th>\n",
       "      <th>ind_unit</th>\n",
       "      <th>license</th>\n",
       "      <th>url</th>\n",
       "      <th>img_path</th>\n",
       "      <th>species</th>\n",
       "      <th>species_word</th>\n",
       "      <th>datasource</th>\n",
       "    </tr>\n",
       "  </thead>\n",
       "  <tbody>\n",
       "    <tr>\n",
       "      <th>0</th>\n",
       "      <td>flickr_Cacophis squamulosus_6796830748.png</td>\n",
       "      <td>6796830748</td>\n",
       "      <td>2012-02-29 19:14:05</td>\n",
       "      <td>0.0</td>\n",
       "      <td>0.0</td>\n",
       "      <td>flickr_37993248@N06_Cacophis squamulosus</td>\n",
       "      <td>0.0</td>\n",
       "      <td>https://farm8.staticflickr.com/7204/6796830748...</td>\n",
       "      <td>/home/camille/vm_exchange/Lab/snakes/datasets/...</td>\n",
       "      <td>Cacophis squamulosus</td>\n",
       "      <td>['l', 'Pseudoelaps atropolios', 'Aspidomorphus...</td>\n",
       "      <td>flickr</td>\n",
       "    </tr>\n",
       "    <tr>\n",
       "      <th>1</th>\n",
       "      <td>flickr_Lampropeltis californiae_6797027978.png</td>\n",
       "      <td>6797027978</td>\n",
       "      <td>2011-04-22 14:11:35</td>\n",
       "      <td>0.0</td>\n",
       "      <td>0.0</td>\n",
       "      <td>flickr_77248512@N08_Lampropeltis californiae</td>\n",
       "      <td>0.0</td>\n",
       "      <td>https://farm8.staticflickr.com/7203/6797027978...</td>\n",
       "      <td>/home/camille/vm_exchange/Lab/snakes/datasets/...</td>\n",
       "      <td>Lampropeltis californiae</td>\n",
       "      <td>['California kingsnake']</td>\n",
       "      <td>flickr</td>\n",
       "    </tr>\n",
       "    <tr>\n",
       "      <th>2</th>\n",
       "      <td>flickr_Corallus caninus_6799008978.png</td>\n",
       "      <td>6799008978</td>\n",
       "      <td>2012-03-01 16:24:59</td>\n",
       "      <td>0.0</td>\n",
       "      <td>0.0</td>\n",
       "      <td>flickr_28596361@N02_Corallus caninus</td>\n",
       "      <td>0.0</td>\n",
       "      <td>https://farm8.staticflickr.com/7181/6799008978...</td>\n",
       "      <td>/home/camille/vm_exchange/Lab/snakes/datasets/...</td>\n",
       "      <td>Corallus caninus</td>\n",
       "      <td>['Emerald tree boa']</td>\n",
       "      <td>flickr</td>\n",
       "    </tr>\n",
       "  </tbody>\n",
       "</table>\n",
       "</div>"
      ],
      "text/plain": [
       "                                     saved_img_id          id  \\\n",
       "0      flickr_Cacophis squamulosus_6796830748.png  6796830748   \n",
       "1  flickr_Lampropeltis californiae_6797027978.png  6797027978   \n",
       "2          flickr_Corallus caninus_6799008978.png  6799008978   \n",
       "\n",
       "             datetaken  latitude  longitude  \\\n",
       "0  2012-02-29 19:14:05       0.0        0.0   \n",
       "1  2011-04-22 14:11:35       0.0        0.0   \n",
       "2  2012-03-01 16:24:59       0.0        0.0   \n",
       "\n",
       "                                       ind_unit  license  \\\n",
       "0      flickr_37993248@N06_Cacophis squamulosus      0.0   \n",
       "1  flickr_77248512@N08_Lampropeltis californiae      0.0   \n",
       "2          flickr_28596361@N02_Corallus caninus      0.0   \n",
       "\n",
       "                                                 url  \\\n",
       "0  https://farm8.staticflickr.com/7204/6796830748...   \n",
       "1  https://farm8.staticflickr.com/7203/6797027978...   \n",
       "2  https://farm8.staticflickr.com/7181/6799008978...   \n",
       "\n",
       "                                            img_path  \\\n",
       "0  /home/camille/vm_exchange/Lab/snakes/datasets/...   \n",
       "1  /home/camille/vm_exchange/Lab/snakes/datasets/...   \n",
       "2  /home/camille/vm_exchange/Lab/snakes/datasets/...   \n",
       "\n",
       "                    species  \\\n",
       "0      Cacophis squamulosus   \n",
       "1  Lampropeltis californiae   \n",
       "2          Corallus caninus   \n",
       "\n",
       "                                        species_word datasource  \n",
       "0  ['l', 'Pseudoelaps atropolios', 'Aspidomorphus...     flickr  \n",
       "1                           ['California kingsnake']     flickr  \n",
       "2                               ['Emerald tree boa']     flickr  "
      ]
     },
     "execution_count": 11,
     "metadata": {},
     "output_type": "execute_result"
    }
   ],
   "source": [
    "print(df_flickr.shape)\n",
    "df_flickr.head(3)"
   ]
  },
  {
   "cell_type": "markdown",
   "metadata": {},
   "source": [
    "## herpmapper"
   ]
  },
  {
   "cell_type": "code",
   "execution_count": 12,
   "metadata": {},
   "outputs": [
    {
     "name": "stdout",
     "output_type": "stream",
     "text": [
      "(59475, 14)\n"
     ]
    },
    {
     "data": {
      "text/html": [
       "<div>\n",
       "<style scoped>\n",
       "    .dataframe tbody tr th:only-of-type {\n",
       "        vertical-align: middle;\n",
       "    }\n",
       "\n",
       "    .dataframe tbody tr th {\n",
       "        vertical-align: top;\n",
       "    }\n",
       "\n",
       "    .dataframe thead th {\n",
       "        text-align: right;\n",
       "    }\n",
       "</style>\n",
       "<table border=\"1\" class=\"dataframe\">\n",
       "  <thead>\n",
       "    <tr style=\"text-align: right;\">\n",
       "      <th></th>\n",
       "      <th>Date</th>\n",
       "      <th>Level 1</th>\n",
       "      <th>Level 2</th>\n",
       "      <th>Time</th>\n",
       "      <th>Country</th>\n",
       "      <th>species_word</th>\n",
       "      <th>ID</th>\n",
       "      <th>species</th>\n",
       "      <th>level_8</th>\n",
       "      <th>url</th>\n",
       "      <th>id</th>\n",
       "      <th>saved_img_id</th>\n",
       "      <th>img_path</th>\n",
       "      <th>datetaken</th>\n",
       "    </tr>\n",
       "  </thead>\n",
       "  <tbody>\n",
       "    <tr>\n",
       "      <th>0</th>\n",
       "      <td>2006-11-08</td>\n",
       "      <td>Iowa</td>\n",
       "      <td>Johnson</td>\n",
       "      <td>13:42:00</td>\n",
       "      <td>United States of America</td>\n",
       "      <td>Storeria dekayi</td>\n",
       "      <td>HM 1</td>\n",
       "      <td>Storeria dekayi</td>\n",
       "      <td>0</td>\n",
       "      <td>https://www.herpmapper.org/content/voucher/0/1...</td>\n",
       "      <td>0-1</td>\n",
       "      <td>herpmapper_Storeria dekayi_0-1.png</td>\n",
       "      <td>/home/camille/vm_exchange/Lab/snakes/datasets/...</td>\n",
       "      <td>2006-11-08 13:42:00</td>\n",
       "    </tr>\n",
       "    <tr>\n",
       "      <th>1</th>\n",
       "      <td>2006-11-04</td>\n",
       "      <td>Iowa</td>\n",
       "      <td>Linn</td>\n",
       "      <td>12:55:00</td>\n",
       "      <td>United States of America</td>\n",
       "      <td>Storeria dekayi</td>\n",
       "      <td>HM 5</td>\n",
       "      <td>Storeria dekayi</td>\n",
       "      <td>0</td>\n",
       "      <td>https://www.herpmapper.org/content/voucher/0/1...</td>\n",
       "      <td>0-13</td>\n",
       "      <td>herpmapper_Storeria dekayi_0-13.png</td>\n",
       "      <td>/home/camille/vm_exchange/Lab/snakes/datasets/...</td>\n",
       "      <td>2006-11-04 12:55:00</td>\n",
       "    </tr>\n",
       "    <tr>\n",
       "      <th>2</th>\n",
       "      <td>2006-11-04</td>\n",
       "      <td>Iowa</td>\n",
       "      <td>Linn</td>\n",
       "      <td>12:55:00</td>\n",
       "      <td>United States of America</td>\n",
       "      <td>Storeria dekayi</td>\n",
       "      <td>HM 5</td>\n",
       "      <td>Storeria dekayi</td>\n",
       "      <td>1</td>\n",
       "      <td>https://www.herpmapper.org/content/voucher/0/...</td>\n",
       "      <td>0-14</td>\n",
       "      <td>herpmapper_Storeria dekayi_0-14.png</td>\n",
       "      <td>/home/camille/vm_exchange/Lab/snakes/datasets/...</td>\n",
       "      <td>2006-11-04 12:55:00</td>\n",
       "    </tr>\n",
       "  </tbody>\n",
       "</table>\n",
       "</div>"
      ],
      "text/plain": [
       "         Date Level 1  Level 2      Time                   Country  \\\n",
       "0  2006-11-08    Iowa  Johnson  13:42:00  United States of America   \n",
       "1  2006-11-04    Iowa     Linn  12:55:00  United States of America   \n",
       "2  2006-11-04    Iowa     Linn  12:55:00  United States of America   \n",
       "\n",
       "      species_word    ID          species  level_8  \\\n",
       "0  Storeria dekayi  HM 1  Storeria dekayi        0   \n",
       "1  Storeria dekayi  HM 5  Storeria dekayi        0   \n",
       "2  Storeria dekayi  HM 5  Storeria dekayi        1   \n",
       "\n",
       "                                                 url    id  \\\n",
       "0  https://www.herpmapper.org/content/voucher/0/1...   0-1   \n",
       "1  https://www.herpmapper.org/content/voucher/0/1...  0-13   \n",
       "2   https://www.herpmapper.org/content/voucher/0/...  0-14   \n",
       "\n",
       "                          saved_img_id  \\\n",
       "0   herpmapper_Storeria dekayi_0-1.png   \n",
       "1  herpmapper_Storeria dekayi_0-13.png   \n",
       "2  herpmapper_Storeria dekayi_0-14.png   \n",
       "\n",
       "                                            img_path            datetaken  \n",
       "0  /home/camille/vm_exchange/Lab/snakes/datasets/...  2006-11-08 13:42:00  \n",
       "1  /home/camille/vm_exchange/Lab/snakes/datasets/...  2006-11-04 12:55:00  \n",
       "2  /home/camille/vm_exchange/Lab/snakes/datasets/...  2006-11-04 12:55:00  "
      ]
     },
     "execution_count": 12,
     "metadata": {},
     "output_type": "execute_result"
    }
   ],
   "source": [
    "#save metadata info (might not be of same size of number of collected images)\n",
    "df_hm = pd.read_csv(os.path.join(path_data,'herpmapper','herpmapper_image_info.csv'),sep=';')\n",
    "print(df_hm.shape)\n",
    "#missing: latitude, longitude, license\n",
    "df_hm.head(3)"
   ]
  },
  {
   "cell_type": "markdown",
   "metadata": {},
   "source": [
    "#### preprocessing"
   ]
  },
  {
   "cell_type": "code",
   "execution_count": 13,
   "metadata": {},
   "outputs": [],
   "source": [
    "df_hm['ind_unit'] = df_hm.apply(lambda x: 'herpmapper_'+x['ID']+'_'+x['species'], axis=1)\n",
    "df_hm['datasource'] = 'herpmapper'"
   ]
  },
  {
   "cell_type": "code",
   "execution_count": 14,
   "metadata": {},
   "outputs": [],
   "source": [
    "#latitude, longitude not in herpmapper\n",
    "df_hm = df_hm.filter(li_info)"
   ]
  },
  {
   "cell_type": "code",
   "execution_count": 15,
   "metadata": {},
   "outputs": [
    {
     "data": {
      "text/html": [
       "<div>\n",
       "<style scoped>\n",
       "    .dataframe tbody tr th:only-of-type {\n",
       "        vertical-align: middle;\n",
       "    }\n",
       "\n",
       "    .dataframe tbody tr th {\n",
       "        vertical-align: top;\n",
       "    }\n",
       "\n",
       "    .dataframe thead th {\n",
       "        text-align: right;\n",
       "    }\n",
       "</style>\n",
       "<table border=\"1\" class=\"dataframe\">\n",
       "  <thead>\n",
       "    <tr style=\"text-align: right;\">\n",
       "      <th></th>\n",
       "      <th>saved_img_id</th>\n",
       "      <th>id</th>\n",
       "      <th>datetaken</th>\n",
       "      <th>ind_unit</th>\n",
       "      <th>url</th>\n",
       "      <th>img_path</th>\n",
       "      <th>species</th>\n",
       "      <th>species_word</th>\n",
       "      <th>datasource</th>\n",
       "    </tr>\n",
       "  </thead>\n",
       "  <tbody>\n",
       "    <tr>\n",
       "      <th>0</th>\n",
       "      <td>herpmapper_Storeria dekayi_0-1.png</td>\n",
       "      <td>0-1</td>\n",
       "      <td>2006-11-08 13:42:00</td>\n",
       "      <td>herpmapper_HM 1_Storeria dekayi</td>\n",
       "      <td>https://www.herpmapper.org/content/voucher/0/1...</td>\n",
       "      <td>/home/camille/vm_exchange/Lab/snakes/datasets/...</td>\n",
       "      <td>Storeria dekayi</td>\n",
       "      <td>Storeria dekayi</td>\n",
       "      <td>herpmapper</td>\n",
       "    </tr>\n",
       "    <tr>\n",
       "      <th>1</th>\n",
       "      <td>herpmapper_Storeria dekayi_0-13.png</td>\n",
       "      <td>0-13</td>\n",
       "      <td>2006-11-04 12:55:00</td>\n",
       "      <td>herpmapper_HM 5_Storeria dekayi</td>\n",
       "      <td>https://www.herpmapper.org/content/voucher/0/1...</td>\n",
       "      <td>/home/camille/vm_exchange/Lab/snakes/datasets/...</td>\n",
       "      <td>Storeria dekayi</td>\n",
       "      <td>Storeria dekayi</td>\n",
       "      <td>herpmapper</td>\n",
       "    </tr>\n",
       "    <tr>\n",
       "      <th>2</th>\n",
       "      <td>herpmapper_Storeria dekayi_0-14.png</td>\n",
       "      <td>0-14</td>\n",
       "      <td>2006-11-04 12:55:00</td>\n",
       "      <td>herpmapper_HM 5_Storeria dekayi</td>\n",
       "      <td>https://www.herpmapper.org/content/voucher/0/...</td>\n",
       "      <td>/home/camille/vm_exchange/Lab/snakes/datasets/...</td>\n",
       "      <td>Storeria dekayi</td>\n",
       "      <td>Storeria dekayi</td>\n",
       "      <td>herpmapper</td>\n",
       "    </tr>\n",
       "  </tbody>\n",
       "</table>\n",
       "</div>"
      ],
      "text/plain": [
       "                          saved_img_id    id            datetaken  \\\n",
       "0   herpmapper_Storeria dekayi_0-1.png   0-1  2006-11-08 13:42:00   \n",
       "1  herpmapper_Storeria dekayi_0-13.png  0-13  2006-11-04 12:55:00   \n",
       "2  herpmapper_Storeria dekayi_0-14.png  0-14  2006-11-04 12:55:00   \n",
       "\n",
       "                          ind_unit  \\\n",
       "0  herpmapper_HM 1_Storeria dekayi   \n",
       "1  herpmapper_HM 5_Storeria dekayi   \n",
       "2  herpmapper_HM 5_Storeria dekayi   \n",
       "\n",
       "                                                 url  \\\n",
       "0  https://www.herpmapper.org/content/voucher/0/1...   \n",
       "1  https://www.herpmapper.org/content/voucher/0/1...   \n",
       "2   https://www.herpmapper.org/content/voucher/0/...   \n",
       "\n",
       "                                            img_path          species  \\\n",
       "0  /home/camille/vm_exchange/Lab/snakes/datasets/...  Storeria dekayi   \n",
       "1  /home/camille/vm_exchange/Lab/snakes/datasets/...  Storeria dekayi   \n",
       "2  /home/camille/vm_exchange/Lab/snakes/datasets/...  Storeria dekayi   \n",
       "\n",
       "      species_word  datasource  \n",
       "0  Storeria dekayi  herpmapper  \n",
       "1  Storeria dekayi  herpmapper  \n",
       "2  Storeria dekayi  herpmapper  "
      ]
     },
     "execution_count": 15,
     "metadata": {},
     "output_type": "execute_result"
    }
   ],
   "source": [
    "df_hm.head(3)"
   ]
  },
  {
   "cell_type": "markdown",
   "metadata": {},
   "source": [
    "## inaturalist"
   ]
  },
  {
   "cell_type": "code",
   "execution_count": 16,
   "metadata": {},
   "outputs": [
    {
     "name": "stdout",
     "output_type": "stream",
     "text": [
      "(113892, 39)\n"
     ]
    },
    {
     "name": "stderr",
     "output_type": "stream",
     "text": [
      "/home/camille/anaconda3/lib/python3.6/site-packages/IPython/core/interactiveshell.py:2728: DtypeWarning: Columns (14) have mixed types. Specify dtype option on import or set low_memory=False.\n",
      "  interactivity=interactivity, compiler=compiler, result=result)\n"
     ]
    },
    {
     "data": {
      "text/html": [
       "<div>\n",
       "<style scoped>\n",
       "    .dataframe tbody tr th:only-of-type {\n",
       "        vertical-align: middle;\n",
       "    }\n",
       "\n",
       "    .dataframe tbody tr th {\n",
       "        vertical-align: top;\n",
       "    }\n",
       "\n",
       "    .dataframe thead th {\n",
       "        text-align: right;\n",
       "    }\n",
       "</style>\n",
       "<table border=\"1\" class=\"dataframe\">\n",
       "  <thead>\n",
       "    <tr style=\"text-align: right;\">\n",
       "      <th></th>\n",
       "      <th>id</th>\n",
       "      <th>observed_on_string</th>\n",
       "      <th>observed_on</th>\n",
       "      <th>time_observed_at</th>\n",
       "      <th>time_zone</th>\n",
       "      <th>out_of_range</th>\n",
       "      <th>photographer</th>\n",
       "      <th>user_login</th>\n",
       "      <th>created_at</th>\n",
       "      <th>updated_at</th>\n",
       "      <th>...</th>\n",
       "      <th>positioning_device</th>\n",
       "      <th>species_guess</th>\n",
       "      <th>species_word</th>\n",
       "      <th>common_name</th>\n",
       "      <th>iconic_taxon_name</th>\n",
       "      <th>taxon_id</th>\n",
       "      <th>datetaken</th>\n",
       "      <th>species</th>\n",
       "      <th>saved_img_id</th>\n",
       "      <th>img_path</th>\n",
       "    </tr>\n",
       "  </thead>\n",
       "  <tbody>\n",
       "    <tr>\n",
       "      <th>0</th>\n",
       "      <td>369</td>\n",
       "      <td>5/26/07</td>\n",
       "      <td>2007-05-26 00:00:00</td>\n",
       "      <td>NaN</td>\n",
       "      <td>Eastern Time (US &amp; Canada)</td>\n",
       "      <td>NaN</td>\n",
       "      <td>72</td>\n",
       "      <td>stellaoleary</td>\n",
       "      <td>2008-06-05 14:04:53 -0500</td>\n",
       "      <td>2014-10-19 22:06:17 -0500</td>\n",
       "      <td>...</td>\n",
       "      <td>NaN</td>\n",
       "      <td>black rat snake</td>\n",
       "      <td>Pantherophis alleghaniensis</td>\n",
       "      <td>Eastern Rat Snake</td>\n",
       "      <td>Reptilia</td>\n",
       "      <td>59644</td>\n",
       "      <td>2007-05-26 00:00:00</td>\n",
       "      <td>Pantherophis alleghaniensis</td>\n",
       "      <td>inaturalist_Pantherophis alleghaniensis_369.png</td>\n",
       "      <td>/home/camille/vm_exchange/Lab/snakes/datasets/...</td>\n",
       "    </tr>\n",
       "    <tr>\n",
       "      <th>1</th>\n",
       "      <td>1227</td>\n",
       "      <td>May 20, 2006 15:49</td>\n",
       "      <td>2006-05-20 00:00:00</td>\n",
       "      <td>2006-05-20 22:49:00</td>\n",
       "      <td>Pacific Time (US &amp; Canada)</td>\n",
       "      <td>False</td>\n",
       "      <td>1</td>\n",
       "      <td>kueda</td>\n",
       "      <td>2009-01-13 02:29:54 -0600</td>\n",
       "      <td>2016-03-01 11:27:39 -0600</td>\n",
       "      <td>...</td>\n",
       "      <td>NaN</td>\n",
       "      <td>Western Terrestrial Garter Snake (Thamnophis e...</td>\n",
       "      <td>Thamnophis elegans</td>\n",
       "      <td>Western Terrestrial Garter Snake</td>\n",
       "      <td>Reptilia</td>\n",
       "      <td>28398</td>\n",
       "      <td>2006-05-20 22:49:00</td>\n",
       "      <td>Thamnophis elegans</td>\n",
       "      <td>inaturalist_Thamnophis elegans_1227.png</td>\n",
       "      <td>/home/camille/vm_exchange/Lab/snakes/datasets/...</td>\n",
       "    </tr>\n",
       "    <tr>\n",
       "      <th>2</th>\n",
       "      <td>1228</td>\n",
       "      <td>May 13, 2006 19:36</td>\n",
       "      <td>2006-05-13 00:00:00</td>\n",
       "      <td>2006-05-14 02:36:00</td>\n",
       "      <td>Pacific Time (US &amp; Canada)</td>\n",
       "      <td>False</td>\n",
       "      <td>1</td>\n",
       "      <td>kueda</td>\n",
       "      <td>2009-01-13 02:29:54 -0600</td>\n",
       "      <td>2017-05-02 13:03:37 -0500</td>\n",
       "      <td>...</td>\n",
       "      <td>NaN</td>\n",
       "      <td>Western Terrestrial Garter Snake</td>\n",
       "      <td>Thamnophis elegans</td>\n",
       "      <td>Western Terrestrial Garter Snake</td>\n",
       "      <td>Reptilia</td>\n",
       "      <td>28398</td>\n",
       "      <td>2006-05-14 02:36:00</td>\n",
       "      <td>Thamnophis elegans</td>\n",
       "      <td>inaturalist_Thamnophis elegans_1228.png</td>\n",
       "      <td>/home/camille/vm_exchange/Lab/snakes/datasets/...</td>\n",
       "    </tr>\n",
       "  </tbody>\n",
       "</table>\n",
       "<p>3 rows × 39 columns</p>\n",
       "</div>"
      ],
      "text/plain": [
       "     id  observed_on_string          observed_on     time_observed_at  \\\n",
       "0   369             5/26/07  2007-05-26 00:00:00                  NaN   \n",
       "1  1227  May 20, 2006 15:49  2006-05-20 00:00:00  2006-05-20 22:49:00   \n",
       "2  1228  May 13, 2006 19:36  2006-05-13 00:00:00  2006-05-14 02:36:00   \n",
       "\n",
       "                    time_zone out_of_range  photographer    user_login  \\\n",
       "0  Eastern Time (US & Canada)          NaN            72  stellaoleary   \n",
       "1  Pacific Time (US & Canada)        False             1         kueda   \n",
       "2  Pacific Time (US & Canada)        False             1         kueda   \n",
       "\n",
       "                  created_at                 updated_at  \\\n",
       "0  2008-06-05 14:04:53 -0500  2014-10-19 22:06:17 -0500   \n",
       "1  2009-01-13 02:29:54 -0600  2016-03-01 11:27:39 -0600   \n",
       "2  2009-01-13 02:29:54 -0600  2017-05-02 13:03:37 -0500   \n",
       "\n",
       "                         ...                         positioning_device  \\\n",
       "0                        ...                                        NaN   \n",
       "1                        ...                                        NaN   \n",
       "2                        ...                                        NaN   \n",
       "\n",
       "                                       species_guess  \\\n",
       "0                                    black rat snake   \n",
       "1  Western Terrestrial Garter Snake (Thamnophis e...   \n",
       "2                   Western Terrestrial Garter Snake   \n",
       "\n",
       "                  species_word                       common_name  \\\n",
       "0  Pantherophis alleghaniensis                 Eastern Rat Snake   \n",
       "1           Thamnophis elegans  Western Terrestrial Garter Snake   \n",
       "2           Thamnophis elegans  Western Terrestrial Garter Snake   \n",
       "\n",
       "  iconic_taxon_name taxon_id            datetaken  \\\n",
       "0          Reptilia    59644  2007-05-26 00:00:00   \n",
       "1          Reptilia    28398  2006-05-20 22:49:00   \n",
       "2          Reptilia    28398  2006-05-14 02:36:00   \n",
       "\n",
       "                       species  \\\n",
       "0  Pantherophis alleghaniensis   \n",
       "1           Thamnophis elegans   \n",
       "2           Thamnophis elegans   \n",
       "\n",
       "                                      saved_img_id  \\\n",
       "0  inaturalist_Pantherophis alleghaniensis_369.png   \n",
       "1          inaturalist_Thamnophis elegans_1227.png   \n",
       "2          inaturalist_Thamnophis elegans_1228.png   \n",
       "\n",
       "                                            img_path  \n",
       "0  /home/camille/vm_exchange/Lab/snakes/datasets/...  \n",
       "1  /home/camille/vm_exchange/Lab/snakes/datasets/...  \n",
       "2  /home/camille/vm_exchange/Lab/snakes/datasets/...  \n",
       "\n",
       "[3 rows x 39 columns]"
      ]
     },
     "execution_count": 16,
     "metadata": {},
     "output_type": "execute_result"
    }
   ],
   "source": [
    "#save metadata info (might not be of same size of number of collected images)\n",
    "df_in = pd.read_csv(os.path.join(path_data,'inaturalist','inaturalist_image_info.csv'), sep=';')\n",
    "print(df_in.shape)\n",
    "df_in.head(3)"
   ]
  },
  {
   "cell_type": "markdown",
   "metadata": {},
   "source": [
    "#### preprocessing"
   ]
  },
  {
   "cell_type": "code",
   "execution_count": 17,
   "metadata": {},
   "outputs": [],
   "source": [
    "df_in['ind_unit'] = df_in.apply(lambda x: 'inaturalist_'+str(x['photographer'])+'_'+x['species'], axis=1)\n",
    "df_in['datasource'] = 'inaturalist'\n",
    "df_in = df_in.filter(li_info)"
   ]
  },
  {
   "cell_type": "code",
   "execution_count": 18,
   "metadata": {
    "scrolled": true
   },
   "outputs": [
    {
     "name": "stdout",
     "output_type": "stream",
     "text": [
      "(113892, 12)\n"
     ]
    },
    {
     "data": {
      "text/html": [
       "<div>\n",
       "<style scoped>\n",
       "    .dataframe tbody tr th:only-of-type {\n",
       "        vertical-align: middle;\n",
       "    }\n",
       "\n",
       "    .dataframe tbody tr th {\n",
       "        vertical-align: top;\n",
       "    }\n",
       "\n",
       "    .dataframe thead th {\n",
       "        text-align: right;\n",
       "    }\n",
       "</style>\n",
       "<table border=\"1\" class=\"dataframe\">\n",
       "  <thead>\n",
       "    <tr style=\"text-align: right;\">\n",
       "      <th></th>\n",
       "      <th>saved_img_id</th>\n",
       "      <th>id</th>\n",
       "      <th>datetaken</th>\n",
       "      <th>latitude</th>\n",
       "      <th>longitude</th>\n",
       "      <th>ind_unit</th>\n",
       "      <th>license</th>\n",
       "      <th>url</th>\n",
       "      <th>img_path</th>\n",
       "      <th>species</th>\n",
       "      <th>species_word</th>\n",
       "      <th>datasource</th>\n",
       "    </tr>\n",
       "  </thead>\n",
       "  <tbody>\n",
       "    <tr>\n",
       "      <th>0</th>\n",
       "      <td>inaturalist_Pantherophis alleghaniensis_369.png</td>\n",
       "      <td>369</td>\n",
       "      <td>2007-05-26 00:00:00</td>\n",
       "      <td>41.316601</td>\n",
       "      <td>-72.558899</td>\n",
       "      <td>inaturalist_72_Pantherophis alleghaniensis</td>\n",
       "      <td>NaN</td>\n",
       "      <td>https://static.inaturalist.org/photos/401/medi...</td>\n",
       "      <td>/home/camille/vm_exchange/Lab/snakes/datasets/...</td>\n",
       "      <td>Pantherophis alleghaniensis</td>\n",
       "      <td>Pantherophis alleghaniensis</td>\n",
       "      <td>inaturalist</td>\n",
       "    </tr>\n",
       "    <tr>\n",
       "      <th>1</th>\n",
       "      <td>inaturalist_Thamnophis elegans_1227.png</td>\n",
       "      <td>1227</td>\n",
       "      <td>2006-05-20 22:49:00</td>\n",
       "      <td>37.614403</td>\n",
       "      <td>-122.488457</td>\n",
       "      <td>inaturalist_1_Thamnophis elegans</td>\n",
       "      <td>CC0</td>\n",
       "      <td>https://static.inaturalist.org/photos/1349/med...</td>\n",
       "      <td>/home/camille/vm_exchange/Lab/snakes/datasets/...</td>\n",
       "      <td>Thamnophis elegans</td>\n",
       "      <td>Thamnophis elegans</td>\n",
       "      <td>inaturalist</td>\n",
       "    </tr>\n",
       "    <tr>\n",
       "      <th>2</th>\n",
       "      <td>inaturalist_Thamnophis elegans_1228.png</td>\n",
       "      <td>1228</td>\n",
       "      <td>2006-05-14 02:36:00</td>\n",
       "      <td>37.664253</td>\n",
       "      <td>-122.055359</td>\n",
       "      <td>inaturalist_1_Thamnophis elegans</td>\n",
       "      <td>CC0</td>\n",
       "      <td>https://static.inaturalist.org/photos/1350/med...</td>\n",
       "      <td>/home/camille/vm_exchange/Lab/snakes/datasets/...</td>\n",
       "      <td>Thamnophis elegans</td>\n",
       "      <td>Thamnophis elegans</td>\n",
       "      <td>inaturalist</td>\n",
       "    </tr>\n",
       "  </tbody>\n",
       "</table>\n",
       "</div>"
      ],
      "text/plain": [
       "                                      saved_img_id    id            datetaken  \\\n",
       "0  inaturalist_Pantherophis alleghaniensis_369.png   369  2007-05-26 00:00:00   \n",
       "1          inaturalist_Thamnophis elegans_1227.png  1227  2006-05-20 22:49:00   \n",
       "2          inaturalist_Thamnophis elegans_1228.png  1228  2006-05-14 02:36:00   \n",
       "\n",
       "    latitude   longitude                                    ind_unit license  \\\n",
       "0  41.316601  -72.558899  inaturalist_72_Pantherophis alleghaniensis     NaN   \n",
       "1  37.614403 -122.488457            inaturalist_1_Thamnophis elegans     CC0   \n",
       "2  37.664253 -122.055359            inaturalist_1_Thamnophis elegans     CC0   \n",
       "\n",
       "                                                 url  \\\n",
       "0  https://static.inaturalist.org/photos/401/medi...   \n",
       "1  https://static.inaturalist.org/photos/1349/med...   \n",
       "2  https://static.inaturalist.org/photos/1350/med...   \n",
       "\n",
       "                                            img_path  \\\n",
       "0  /home/camille/vm_exchange/Lab/snakes/datasets/...   \n",
       "1  /home/camille/vm_exchange/Lab/snakes/datasets/...   \n",
       "2  /home/camille/vm_exchange/Lab/snakes/datasets/...   \n",
       "\n",
       "                       species                 species_word   datasource  \n",
       "0  Pantherophis alleghaniensis  Pantherophis alleghaniensis  inaturalist  \n",
       "1           Thamnophis elegans           Thamnophis elegans  inaturalist  \n",
       "2           Thamnophis elegans           Thamnophis elegans  inaturalist  "
      ]
     },
     "execution_count": 18,
     "metadata": {},
     "output_type": "execute_result"
    }
   ],
   "source": [
    "print(df_in.shape)\n",
    "df_in.head(3)"
   ]
  },
  {
   "cell_type": "markdown",
   "metadata": {},
   "source": [
    "### SNAPP - Andrew images"
   ]
  },
  {
   "cell_type": "code",
   "execution_count": 19,
   "metadata": {},
   "outputs": [
    {
     "name": "stdout",
     "output_type": "stream",
     "text": [
      "(2678, 12)\n"
     ]
    },
    {
     "data": {
      "text/html": [
       "<div>\n",
       "<style scoped>\n",
       "    .dataframe tbody tr th:only-of-type {\n",
       "        vertical-align: middle;\n",
       "    }\n",
       "\n",
       "    .dataframe tbody tr th {\n",
       "        vertical-align: top;\n",
       "    }\n",
       "\n",
       "    .dataframe thead th {\n",
       "        text-align: right;\n",
       "    }\n",
       "</style>\n",
       "<table border=\"1\" class=\"dataframe\">\n",
       "  <thead>\n",
       "    <tr style=\"text-align: right;\">\n",
       "      <th></th>\n",
       "      <th>filename</th>\n",
       "      <th>url</th>\n",
       "      <th>species</th>\n",
       "      <th>genus</th>\n",
       "      <th>family</th>\n",
       "      <th>country</th>\n",
       "      <th>locality</th>\n",
       "      <th>photographer</th>\n",
       "      <th>license</th>\n",
       "      <th>id-quality</th>\n",
       "      <th>captive</th>\n",
       "      <th>notes</th>\n",
       "    </tr>\n",
       "  </thead>\n",
       "  <tbody>\n",
       "    <tr>\n",
       "      <th>0</th>\n",
       "      <td>0027.jpg</td>\n",
       "      <td>https://drive.google.com/a/aggiemail.usu.edu/f...</td>\n",
       "      <td>Agkistrodon contortrix</td>\n",
       "      <td>Agkistrodon</td>\n",
       "      <td>Viperidae</td>\n",
       "      <td>USA</td>\n",
       "      <td>NaN</td>\n",
       "      <td>NaN</td>\n",
       "      <td>NaN</td>\n",
       "      <td>certain</td>\n",
       "      <td>no</td>\n",
       "      <td>NaN</td>\n",
       "    </tr>\n",
       "    <tr>\n",
       "      <th>1</th>\n",
       "      <td>0028.jpg</td>\n",
       "      <td>https://drive.google.com/a/aggiemail.usu.edu/f...</td>\n",
       "      <td>Agkistrodon contortrix</td>\n",
       "      <td>Agkistrodon</td>\n",
       "      <td>Viperidae</td>\n",
       "      <td>USA</td>\n",
       "      <td>NaN</td>\n",
       "      <td>NaN</td>\n",
       "      <td>NaN</td>\n",
       "      <td>certain</td>\n",
       "      <td>no</td>\n",
       "      <td>NaN</td>\n",
       "    </tr>\n",
       "    <tr>\n",
       "      <th>2</th>\n",
       "      <td>0029.jpg</td>\n",
       "      <td>https://drive.google.com/a/aggiemail.usu.edu/f...</td>\n",
       "      <td>Agkistrodon contortrix</td>\n",
       "      <td>Agkistrodon</td>\n",
       "      <td>Viperidae</td>\n",
       "      <td>USA</td>\n",
       "      <td>NaN</td>\n",
       "      <td>NaN</td>\n",
       "      <td>NaN</td>\n",
       "      <td>certain</td>\n",
       "      <td>no</td>\n",
       "      <td>NaN</td>\n",
       "    </tr>\n",
       "  </tbody>\n",
       "</table>\n",
       "</div>"
      ],
      "text/plain": [
       "   filename                                                url  \\\n",
       "0  0027.jpg  https://drive.google.com/a/aggiemail.usu.edu/f...   \n",
       "1  0028.jpg  https://drive.google.com/a/aggiemail.usu.edu/f...   \n",
       "2  0029.jpg  https://drive.google.com/a/aggiemail.usu.edu/f...   \n",
       "\n",
       "                  species        genus     family country locality  \\\n",
       "0  Agkistrodon contortrix  Agkistrodon  Viperidae     USA      NaN   \n",
       "1  Agkistrodon contortrix  Agkistrodon  Viperidae     USA      NaN   \n",
       "2  Agkistrodon contortrix  Agkistrodon  Viperidae     USA      NaN   \n",
       "\n",
       "  photographer license id-quality captive notes  \n",
       "0          NaN     NaN    certain      no   NaN  \n",
       "1          NaN     NaN    certain      no   NaN  \n",
       "2          NaN     NaN    certain      no   NaN  "
      ]
     },
     "execution_count": 19,
     "metadata": {},
     "output_type": "execute_result"
    }
   ],
   "source": [
    "#save metadata info (might not be of same size of number of collected images)\n",
    "df_s = pd.read_csv(os.path.join(path_data,'snapp_images','snapp-images.csv'))\n",
    "print(df_s.shape)\n",
    "df_s.head(3)"
   ]
  },
  {
   "cell_type": "markdown",
   "metadata": {},
   "source": [
    "#### preprocessing"
   ]
  },
  {
   "cell_type": "code",
   "execution_count": 20,
   "metadata": {
    "scrolled": true
   },
   "outputs": [],
   "source": [
    "#Image.open(os.path.join(path_data, 'snapp_images', 'Agkistrodon', 'Agkistrodon contortrix', '0027.jpg'))"
   ]
  },
  {
   "cell_type": "code",
   "execution_count": 21,
   "metadata": {},
   "outputs": [],
   "source": [
    "#add variable\n",
    "#note that here the id use aso the ĵpg or png' format as it was done like this by andrew and that the endpoint change\n",
    "#snapp missing: datetaken, latitude, longitude,\n",
    "df_s['photographer'] = df_s['photographer'].fillna('')\n",
    "df_s['ind_unit'] = df_s.apply(lambda x: 'snapp_'+x['photographer']+'_'+x['species'], axis=1)\n",
    "df_s['datasource'] = 'snapp'\n",
    "df_s = df_s.rename(columns={'filename':'id'})\n",
    "df_s['saved_img_id'] = df_s['id'].copy()\n",
    "df_s['species_word'] = df_s['species'].copy()\n",
    "df_s['img_path'] = df_s.apply(lambda x: os.path.join(path_data,'snapp_images',x['genus'],x['species'], \n",
    "                                                     x['saved_img_id']), axis=1)\n",
    "df_s = df_s.filter(li_info)"
   ]
  },
  {
   "cell_type": "code",
   "execution_count": 22,
   "metadata": {},
   "outputs": [
    {
     "name": "stdout",
     "output_type": "stream",
     "text": [
      "We have 2007 images collected from snapp\n"
     ]
    }
   ],
   "source": [
    "#remove the info without images\n",
    "li_snapp_images = []\n",
    "for genus in glob.glob(os.path.join(path_data,'snapp_images','*')):\n",
    "    for species in glob.glob(os.path.join(genus,'*')):\n",
    "        li_snapp_images.extend([x for x in glob.glob(os.path.join(species,'*'))])\n",
    "len(li_snapp_images)\n",
    "print('We have %d images collected from snapp'%len(li_snapp_images))"
   ]
  },
  {
   "cell_type": "code",
   "execution_count": 23,
   "metadata": {},
   "outputs": [
    {
     "name": "stdout",
     "output_type": "stream",
     "text": [
      "(2007, 9)\n"
     ]
    },
    {
     "data": {
      "text/html": [
       "<div>\n",
       "<style scoped>\n",
       "    .dataframe tbody tr th:only-of-type {\n",
       "        vertical-align: middle;\n",
       "    }\n",
       "\n",
       "    .dataframe tbody tr th {\n",
       "        vertical-align: top;\n",
       "    }\n",
       "\n",
       "    .dataframe thead th {\n",
       "        text-align: right;\n",
       "    }\n",
       "</style>\n",
       "<table border=\"1\" class=\"dataframe\">\n",
       "  <thead>\n",
       "    <tr style=\"text-align: right;\">\n",
       "      <th></th>\n",
       "      <th>saved_img_id</th>\n",
       "      <th>id</th>\n",
       "      <th>ind_unit</th>\n",
       "      <th>license</th>\n",
       "      <th>url</th>\n",
       "      <th>img_path</th>\n",
       "      <th>species</th>\n",
       "      <th>species_word</th>\n",
       "      <th>datasource</th>\n",
       "    </tr>\n",
       "  </thead>\n",
       "  <tbody>\n",
       "    <tr>\n",
       "      <th>0</th>\n",
       "      <td>0027.jpg</td>\n",
       "      <td>0027.jpg</td>\n",
       "      <td>snapp__Agkistrodon contortrix</td>\n",
       "      <td>NaN</td>\n",
       "      <td>https://drive.google.com/a/aggiemail.usu.edu/f...</td>\n",
       "      <td>/home/camille/vm_exchange/Lab/snakes/datasets/...</td>\n",
       "      <td>Agkistrodon contortrix</td>\n",
       "      <td>Agkistrodon contortrix</td>\n",
       "      <td>snapp</td>\n",
       "    </tr>\n",
       "    <tr>\n",
       "      <th>1</th>\n",
       "      <td>0028.jpg</td>\n",
       "      <td>0028.jpg</td>\n",
       "      <td>snapp__Agkistrodon contortrix</td>\n",
       "      <td>NaN</td>\n",
       "      <td>https://drive.google.com/a/aggiemail.usu.edu/f...</td>\n",
       "      <td>/home/camille/vm_exchange/Lab/snakes/datasets/...</td>\n",
       "      <td>Agkistrodon contortrix</td>\n",
       "      <td>Agkistrodon contortrix</td>\n",
       "      <td>snapp</td>\n",
       "    </tr>\n",
       "    <tr>\n",
       "      <th>2</th>\n",
       "      <td>0029.jpg</td>\n",
       "      <td>0029.jpg</td>\n",
       "      <td>snapp__Agkistrodon contortrix</td>\n",
       "      <td>NaN</td>\n",
       "      <td>https://drive.google.com/a/aggiemail.usu.edu/f...</td>\n",
       "      <td>/home/camille/vm_exchange/Lab/snakes/datasets/...</td>\n",
       "      <td>Agkistrodon contortrix</td>\n",
       "      <td>Agkistrodon contortrix</td>\n",
       "      <td>snapp</td>\n",
       "    </tr>\n",
       "  </tbody>\n",
       "</table>\n",
       "</div>"
      ],
      "text/plain": [
       "  saved_img_id        id                       ind_unit license  \\\n",
       "0     0027.jpg  0027.jpg  snapp__Agkistrodon contortrix     NaN   \n",
       "1     0028.jpg  0028.jpg  snapp__Agkistrodon contortrix     NaN   \n",
       "2     0029.jpg  0029.jpg  snapp__Agkistrodon contortrix     NaN   \n",
       "\n",
       "                                                 url  \\\n",
       "0  https://drive.google.com/a/aggiemail.usu.edu/f...   \n",
       "1  https://drive.google.com/a/aggiemail.usu.edu/f...   \n",
       "2  https://drive.google.com/a/aggiemail.usu.edu/f...   \n",
       "\n",
       "                                            img_path                 species  \\\n",
       "0  /home/camille/vm_exchange/Lab/snakes/datasets/...  Agkistrodon contortrix   \n",
       "1  /home/camille/vm_exchange/Lab/snakes/datasets/...  Agkistrodon contortrix   \n",
       "2  /home/camille/vm_exchange/Lab/snakes/datasets/...  Agkistrodon contortrix   \n",
       "\n",
       "             species_word datasource  \n",
       "0  Agkistrodon contortrix      snapp  \n",
       "1  Agkistrodon contortrix      snapp  \n",
       "2  Agkistrodon contortrix      snapp  "
      ]
     },
     "execution_count": 23,
     "metadata": {},
     "output_type": "execute_result"
    }
   ],
   "source": [
    "df_s = df_s[df_s['img_path'].isin(li_snapp_images)]\n",
    "print(df_s.shape)\n",
    "df_s.head(3)"
   ]
  },
  {
   "cell_type": "markdown",
   "metadata": {},
   "source": [
    "# Aggregate"
   ]
  },
  {
   "cell_type": "code",
   "execution_count": 24,
   "metadata": {},
   "outputs": [
    {
     "name": "stdout",
     "output_type": "stream",
     "text": [
      "We have in total: \n",
      " \n",
      "56840 flickr images, \n",
      "59475 herpmapper images, \n",
      "113892 inaturalist images, \n",
      "2007 snapp images\n"
     ]
    }
   ],
   "source": [
    "x1 = df_flickr.shape[0]\n",
    "x2 = df_hm.shape[0]\n",
    "x3 = df_in.shape[0]\n",
    "x4 = df_s.shape[0]\n",
    "print('We have in total: \\n \\n%d flickr images, \\n%d herpmapper images, \\n%d inaturalist images, \\n%d snapp images'%(x1,x2,x3,x4))"
   ]
  },
  {
   "cell_type": "code",
   "execution_count": 25,
   "metadata": {},
   "outputs": [
    {
     "name": "stdout",
     "output_type": "stream",
     "text": [
      "(232214, 12)\n"
     ]
    },
    {
     "data": {
      "text/html": [
       "<div>\n",
       "<style scoped>\n",
       "    .dataframe tbody tr th:only-of-type {\n",
       "        vertical-align: middle;\n",
       "    }\n",
       "\n",
       "    .dataframe tbody tr th {\n",
       "        vertical-align: top;\n",
       "    }\n",
       "\n",
       "    .dataframe thead th {\n",
       "        text-align: right;\n",
       "    }\n",
       "</style>\n",
       "<table border=\"1\" class=\"dataframe\">\n",
       "  <thead>\n",
       "    <tr style=\"text-align: right;\">\n",
       "      <th></th>\n",
       "      <th>datasource</th>\n",
       "      <th>datetaken</th>\n",
       "      <th>id</th>\n",
       "      <th>img_path</th>\n",
       "      <th>ind_unit</th>\n",
       "      <th>latitude</th>\n",
       "      <th>license</th>\n",
       "      <th>longitude</th>\n",
       "      <th>saved_img_id</th>\n",
       "      <th>species</th>\n",
       "      <th>species_word</th>\n",
       "      <th>url</th>\n",
       "    </tr>\n",
       "  </thead>\n",
       "  <tbody>\n",
       "    <tr>\n",
       "      <th>0</th>\n",
       "      <td>flickr</td>\n",
       "      <td>2012-02-29 19:14:05</td>\n",
       "      <td>6796830748</td>\n",
       "      <td>/home/camille/vm_exchange/Lab/snakes/datasets/...</td>\n",
       "      <td>flickr_37993248@N06_Cacophis squamulosus</td>\n",
       "      <td>0.0</td>\n",
       "      <td>0</td>\n",
       "      <td>0.0</td>\n",
       "      <td>flickr_Cacophis squamulosus_6796830748.png</td>\n",
       "      <td>Cacophis squamulosus</td>\n",
       "      <td>['l', 'Pseudoelaps atropolios', 'Aspidomorphus...</td>\n",
       "      <td>https://farm8.staticflickr.com/7204/6796830748...</td>\n",
       "    </tr>\n",
       "    <tr>\n",
       "      <th>1</th>\n",
       "      <td>flickr</td>\n",
       "      <td>2011-04-22 14:11:35</td>\n",
       "      <td>6797027978</td>\n",
       "      <td>/home/camille/vm_exchange/Lab/snakes/datasets/...</td>\n",
       "      <td>flickr_77248512@N08_Lampropeltis californiae</td>\n",
       "      <td>0.0</td>\n",
       "      <td>0</td>\n",
       "      <td>0.0</td>\n",
       "      <td>flickr_Lampropeltis californiae_6797027978.png</td>\n",
       "      <td>Lampropeltis californiae</td>\n",
       "      <td>['California kingsnake']</td>\n",
       "      <td>https://farm8.staticflickr.com/7203/6797027978...</td>\n",
       "    </tr>\n",
       "    <tr>\n",
       "      <th>2</th>\n",
       "      <td>flickr</td>\n",
       "      <td>2012-03-01 16:24:59</td>\n",
       "      <td>6799008978</td>\n",
       "      <td>/home/camille/vm_exchange/Lab/snakes/datasets/...</td>\n",
       "      <td>flickr_28596361@N02_Corallus caninus</td>\n",
       "      <td>0.0</td>\n",
       "      <td>0</td>\n",
       "      <td>0.0</td>\n",
       "      <td>flickr_Corallus caninus_6799008978.png</td>\n",
       "      <td>Corallus caninus</td>\n",
       "      <td>['Emerald tree boa']</td>\n",
       "      <td>https://farm8.staticflickr.com/7181/6799008978...</td>\n",
       "    </tr>\n",
       "  </tbody>\n",
       "</table>\n",
       "</div>"
      ],
      "text/plain": [
       "  datasource            datetaken          id  \\\n",
       "0     flickr  2012-02-29 19:14:05  6796830748   \n",
       "1     flickr  2011-04-22 14:11:35  6797027978   \n",
       "2     flickr  2012-03-01 16:24:59  6799008978   \n",
       "\n",
       "                                            img_path  \\\n",
       "0  /home/camille/vm_exchange/Lab/snakes/datasets/...   \n",
       "1  /home/camille/vm_exchange/Lab/snakes/datasets/...   \n",
       "2  /home/camille/vm_exchange/Lab/snakes/datasets/...   \n",
       "\n",
       "                                       ind_unit  latitude license  longitude  \\\n",
       "0      flickr_37993248@N06_Cacophis squamulosus       0.0       0        0.0   \n",
       "1  flickr_77248512@N08_Lampropeltis californiae       0.0       0        0.0   \n",
       "2          flickr_28596361@N02_Corallus caninus       0.0       0        0.0   \n",
       "\n",
       "                                     saved_img_id                   species  \\\n",
       "0      flickr_Cacophis squamulosus_6796830748.png      Cacophis squamulosus   \n",
       "1  flickr_Lampropeltis californiae_6797027978.png  Lampropeltis californiae   \n",
       "2          flickr_Corallus caninus_6799008978.png          Corallus caninus   \n",
       "\n",
       "                                        species_word  \\\n",
       "0  ['l', 'Pseudoelaps atropolios', 'Aspidomorphus...   \n",
       "1                           ['California kingsnake']   \n",
       "2                               ['Emerald tree boa']   \n",
       "\n",
       "                                                 url  \n",
       "0  https://farm8.staticflickr.com/7204/6796830748...  \n",
       "1  https://farm8.staticflickr.com/7203/6797027978...  \n",
       "2  https://farm8.staticflickr.com/7181/6799008978...  "
      ]
     },
     "execution_count": 25,
     "metadata": {},
     "output_type": "execute_result"
    }
   ],
   "source": [
    "df = pd.concat([df_flickr, df_hm, df_in, df_s], ignore_index=True)\n",
    "print(df.shape)\n",
    "df.head(3)"
   ]
  },
  {
   "cell_type": "markdown",
   "metadata": {},
   "source": [
    "# Add commun info"
   ]
  },
  {
   "cell_type": "code",
   "execution_count": 26,
   "metadata": {},
   "outputs": [],
   "source": [
    "#TODO: species_word_source, genus"
   ]
  },
  {
   "cell_type": "markdown",
   "metadata": {},
   "source": [
    "#### save "
   ]
  },
  {
   "cell_type": "code",
   "execution_count": 27,
   "metadata": {},
   "outputs": [],
   "source": [
    "df.to_csv(os.path.join(path_data,'df_all_datasource.csv'), index=False, sep=';')"
   ]
  },
  {
   "cell_type": "markdown",
   "metadata": {},
   "source": [
    "# Register adequate df for crowdai challenge"
   ]
  },
  {
   "cell_type": "code",
   "execution_count": 28,
   "metadata": {},
   "outputs": [],
   "source": [
    "df_crowdai = df.copy()"
   ]
  },
  {
   "cell_type": "markdown",
   "metadata": {},
   "source": [
    "#### remove classes with less than 500 images"
   ]
  },
  {
   "cell_type": "code",
   "execution_count": 29,
   "metadata": {},
   "outputs": [],
   "source": [
    "dico_species_nbrimage = dict(df['species'].value_counts())\n",
    "df_crowdai['has_enough_images'] = df_crowdai['species'].map(lambda x: dico_species_nbrimage[x]>499)"
   ]
  },
  {
   "cell_type": "code",
   "execution_count": 30,
   "metadata": {},
   "outputs": [
    {
     "name": "stdout",
     "output_type": "stream",
     "text": [
      "(232214, 13)\n",
      "(161217, 13)\n"
     ]
    }
   ],
   "source": [
    "print(df_crowdai.shape)\n",
    "df_crowdai = df_crowdai[df_crowdai['has_enough_images']]\n",
    "print(df_crowdai.shape)"
   ]
  },
  {
   "cell_type": "markdown",
   "metadata": {},
   "source": [
    "#### remove classes with less than 20 ind_unit"
   ]
  },
  {
   "cell_type": "code",
   "execution_count": 31,
   "metadata": {
    "scrolled": true
   },
   "outputs": [
    {
     "data": {
      "text/html": [
       "<div>\n",
       "<style scoped>\n",
       "    .dataframe tbody tr th:only-of-type {\n",
       "        vertical-align: middle;\n",
       "    }\n",
       "\n",
       "    .dataframe tbody tr th {\n",
       "        vertical-align: top;\n",
       "    }\n",
       "\n",
       "    .dataframe thead th {\n",
       "        text-align: right;\n",
       "    }\n",
       "</style>\n",
       "<table border=\"1\" class=\"dataframe\">\n",
       "  <thead>\n",
       "    <tr style=\"text-align: right;\">\n",
       "      <th></th>\n",
       "      <th>species</th>\n",
       "      <th>ind_unit</th>\n",
       "      <th>nbr_ind_unit</th>\n",
       "    </tr>\n",
       "  </thead>\n",
       "  <tbody>\n",
       "    <tr>\n",
       "      <th>0</th>\n",
       "      <td>Agkistrodon contortrix</td>\n",
       "      <td>{herpmapper_HM 186022_Agkistrodon contortrix, ...</td>\n",
       "      <td>2509</td>\n",
       "    </tr>\n",
       "    <tr>\n",
       "      <th>1</th>\n",
       "      <td>Agkistrodon piscivorus</td>\n",
       "      <td>{herpmapper_HM 236918_Agkistrodon piscivorus, ...</td>\n",
       "      <td>1635</td>\n",
       "    </tr>\n",
       "    <tr>\n",
       "      <th>2</th>\n",
       "      <td>Ahaetulla prasina</td>\n",
       "      <td>{flickr_42258227@N07_Ahaetulla prasina, flickr...</td>\n",
       "      <td>243</td>\n",
       "    </tr>\n",
       "  </tbody>\n",
       "</table>\n",
       "</div>"
      ],
      "text/plain": [
       "                  species                                           ind_unit  \\\n",
       "0  Agkistrodon contortrix  {herpmapper_HM 186022_Agkistrodon contortrix, ...   \n",
       "1  Agkistrodon piscivorus  {herpmapper_HM 236918_Agkistrodon piscivorus, ...   \n",
       "2       Ahaetulla prasina  {flickr_42258227@N07_Ahaetulla prasina, flickr...   \n",
       "\n",
       "   nbr_ind_unit  \n",
       "0          2509  \n",
       "1          1635  \n",
       "2           243  "
      ]
     },
     "execution_count": 31,
     "metadata": {},
     "output_type": "execute_result"
    }
   ],
   "source": [
    "df_ind_unit = df_crowdai.groupby('species')['ind_unit'].agg(lambda x: set(x)).reset_index()\n",
    "df_ind_unit['nbr_ind_unit'] = df_ind_unit['ind_unit'].map(lambda x: len(x))\n",
    "df_ind_unit.head(3)"
   ]
  },
  {
   "cell_type": "code",
   "execution_count": 32,
   "metadata": {},
   "outputs": [
    {
     "name": "stdout",
     "output_type": "stream",
     "text": [
      "A species with at least 500 images has at least 71 different independant unit\n"
     ]
    }
   ],
   "source": [
    "x = min(df_ind_unit['nbr_ind_unit'].tolist())\n",
    "print('A species with at least 500 images has at least %d different independant unit'%x)"
   ]
  },
  {
   "cell_type": "code",
   "execution_count": 33,
   "metadata": {},
   "outputs": [],
   "source": [
    "dico_species_nbrindunit = dict(zip(df_ind_unit['species'].tolist(), df_ind_unit['nbr_ind_unit'].tolist()))\n",
    "df_crowdai['has_enough_ind_unit'] = df_crowdai['species'].map(lambda x: dico_species_nbrindunit[x]>19)"
   ]
  },
  {
   "cell_type": "code",
   "execution_count": 34,
   "metadata": {},
   "outputs": [
    {
     "name": "stdout",
     "output_type": "stream",
     "text": [
      "(161217, 14)\n",
      "(161217, 14)\n"
     ]
    }
   ],
   "source": [
    "print(df_crowdai.shape)\n",
    "df_crowdai = df_crowdai[df_crowdai['has_enough_ind_unit']]\n",
    "print(df_crowdai.shape)"
   ]
  },
  {
   "cell_type": "markdown",
   "metadata": {},
   "source": [
    "#### keep only usefull info"
   ]
  },
  {
   "cell_type": "code",
   "execution_count": 35,
   "metadata": {},
   "outputs": [
    {
     "data": {
      "text/html": [
       "<div>\n",
       "<style scoped>\n",
       "    .dataframe tbody tr th:only-of-type {\n",
       "        vertical-align: middle;\n",
       "    }\n",
       "\n",
       "    .dataframe tbody tr th {\n",
       "        vertical-align: top;\n",
       "    }\n",
       "\n",
       "    .dataframe thead th {\n",
       "        text-align: right;\n",
       "    }\n",
       "</style>\n",
       "<table border=\"1\" class=\"dataframe\">\n",
       "  <thead>\n",
       "    <tr style=\"text-align: right;\">\n",
       "      <th></th>\n",
       "      <th>saved_img_id</th>\n",
       "      <th>id</th>\n",
       "      <th>ind_unit</th>\n",
       "      <th>license</th>\n",
       "      <th>url</th>\n",
       "      <th>img_path</th>\n",
       "      <th>species</th>\n",
       "      <th>datasource</th>\n",
       "    </tr>\n",
       "  </thead>\n",
       "  <tbody>\n",
       "    <tr>\n",
       "      <th>1</th>\n",
       "      <td>flickr_Lampropeltis californiae_6797027978.png</td>\n",
       "      <td>6797027978</td>\n",
       "      <td>flickr_77248512@N08_Lampropeltis californiae</td>\n",
       "      <td>0</td>\n",
       "      <td>https://farm8.staticflickr.com/7203/6797027978...</td>\n",
       "      <td>/home/camille/vm_exchange/Lab/snakes/datasets/...</td>\n",
       "      <td>Lampropeltis californiae</td>\n",
       "      <td>flickr</td>\n",
       "    </tr>\n",
       "    <tr>\n",
       "      <th>4</th>\n",
       "      <td>flickr_Natrix maura_6800854734.png</td>\n",
       "      <td>6800854734</td>\n",
       "      <td>flickr_74385542@N04_Natrix maura</td>\n",
       "      <td>0</td>\n",
       "      <td>https://farm8.staticflickr.com/7177/6800854734...</td>\n",
       "      <td>/home/camille/vm_exchange/Lab/snakes/datasets/...</td>\n",
       "      <td>Natrix maura</td>\n",
       "      <td>flickr</td>\n",
       "    </tr>\n",
       "  </tbody>\n",
       "</table>\n",
       "</div>"
      ],
      "text/plain": [
       "                                     saved_img_id          id  \\\n",
       "1  flickr_Lampropeltis californiae_6797027978.png  6797027978   \n",
       "4              flickr_Natrix maura_6800854734.png  6800854734   \n",
       "\n",
       "                                       ind_unit license  \\\n",
       "1  flickr_77248512@N08_Lampropeltis californiae       0   \n",
       "4              flickr_74385542@N04_Natrix maura       0   \n",
       "\n",
       "                                                 url  \\\n",
       "1  https://farm8.staticflickr.com/7203/6797027978...   \n",
       "4  https://farm8.staticflickr.com/7177/6800854734...   \n",
       "\n",
       "                                            img_path  \\\n",
       "1  /home/camille/vm_exchange/Lab/snakes/datasets/...   \n",
       "4  /home/camille/vm_exchange/Lab/snakes/datasets/...   \n",
       "\n",
       "                    species datasource  \n",
       "1  Lampropeltis californiae     flickr  \n",
       "4              Natrix maura     flickr  "
      ]
     },
     "execution_count": 35,
     "metadata": {},
     "output_type": "execute_result"
    }
   ],
   "source": [
    "li_crowdai = ['saved_img_id', 'id', 'ind_unit', 'license', 'url', 'img_path', 'species', 'datasource']\n",
    "df_crowdai = df_crowdai.filter(li_crowdai)\n",
    "df_crowdai.head(2)"
   ]
  },
  {
   "cell_type": "markdown",
   "metadata": {},
   "source": [
    "#### split into train and test set"
   ]
  },
  {
   "cell_type": "code",
   "execution_count": 36,
   "metadata": {},
   "outputs": [],
   "source": [
    "df_crowdai_test, df_crowdai_train = split_test_train_within_cat(df=df_crowdai, p_test=0.2, \n",
    "                                                                category_to_split_within='species', \n",
    "                                                                id_to_split_with='ind_unit')"
   ]
  },
  {
   "cell_type": "markdown",
   "metadata": {},
   "source": [
    "#### save"
   ]
  },
  {
   "cell_type": "code",
   "execution_count": null,
   "metadata": {},
   "outputs": [],
   "source": [
    "df_crowdai.to_csv(os.path.join(path_data,'df_crowdai.csv'), index=False, sep=';')\n",
    "df_crowdai_test.to_csv(os.path.join(path_data,'df_crowdai_test.csv'), index=False, sep=';')\n",
    "df_crowdai_train.to_csv(os.path.join(path_data,'df_crowdai_train.csv'), index=False, sep=';')"
   ]
  },
  {
   "cell_type": "markdown",
   "metadata": {},
   "source": [
    "#### small stat"
   ]
  },
  {
   "cell_type": "code",
   "execution_count": 40,
   "metadata": {},
   "outputs": [
    {
     "data": {
      "text/plain": [
       "85"
      ]
     },
     "execution_count": 40,
     "metadata": {},
     "output_type": "execute_result"
    }
   ],
   "source": [
    "len(set(df_crowdai_test['species'].tolist()))"
   ]
  },
  {
   "cell_type": "code",
   "execution_count": null,
   "metadata": {},
   "outputs": [],
   "source": []
  },
  {
   "cell_type": "code",
   "execution_count": null,
   "metadata": {},
   "outputs": [],
   "source": []
  },
  {
   "cell_type": "code",
   "execution_count": null,
   "metadata": {},
   "outputs": [],
   "source": []
  }
 ],
 "metadata": {
  "kernelspec": {
   "display_name": "Python 3",
   "language": "python",
   "name": "python3"
  },
  "language_info": {
   "codemirror_mode": {
    "name": "ipython",
    "version": 3
   },
   "file_extension": ".py",
   "mimetype": "text/x-python",
   "name": "python",
   "nbconvert_exporter": "python",
   "pygments_lexer": "ipython3",
   "version": "3.6.4"
  }
 },
 "nbformat": 4,
 "nbformat_minor": 2
}

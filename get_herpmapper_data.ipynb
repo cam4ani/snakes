{
 "cells": [
  {
   "cell_type": "code",
   "execution_count": 18,
   "metadata": {},
   "outputs": [],
   "source": [
    "#basic package\n",
    "import json\n",
    "import tqdm\n",
    "import os\n",
    "import numpy\n",
    "import glob\n",
    "import pandas as pd\n",
    "import sys\n",
    "import shutil\n",
    "import time\n",
    "from PIL import Image\n",
    "\n",
    "#url open to get image\n",
    "import urllib.request\n",
    "from urllib.request import urlopen\n",
    "\n",
    "#get data in parallel\n",
    "from multiprocessing import Pool\n",
    "\n",
    "#plot (for image verification)\n",
    "import matplotlib.cm as cm\n",
    "%matplotlib inline\n",
    "from matplotlib import pyplot as plt"
   ]
  },
  {
   "cell_type": "code",
   "execution_count": 19,
   "metadata": {},
   "outputs": [],
   "source": [
    "# Root directory of the project\n",
    "ROOT_DIR = os.getcwd()\n",
    "path_data = os.path.join(ROOT_DIR,'datasets/herpmapper')"
   ]
  },
  {
   "cell_type": "code",
   "execution_count": 20,
   "metadata": {},
   "outputs": [],
   "source": [
    "PACKAGE_PARENT = '../..'\n",
    "SCRIPT_DIR = os.path.dirname(os.path.realpath(os.path.join(os.getcwd(), os.path.expanduser('__file__'))))\n",
    "sys.path.append(os.path.normpath(os.path.join(SCRIPT_DIR, PACKAGE_PARENT)))\n",
    "\n",
    "from UTILS.utils import get_image"
   ]
  },
  {
   "cell_type": "code",
   "execution_count": 21,
   "metadata": {},
   "outputs": [],
   "source": [
    "#Note this notebook can not be run in the same time as get_flickr_data on my computer, but it could on the cluster.\n",
    "#Hence, depending on your computer you might or not be able to run both in the same time, but if you try verify its \n",
    "#blocked"
   ]
  },
  {
   "cell_type": "markdown",
   "metadata": {},
   "source": [
    "# Download data"
   ]
  },
  {
   "cell_type": "markdown",
   "metadata": {},
   "source": [
    "#### list of species and its synonymes"
   ]
  },
  {
   "cell_type": "code",
   "execution_count": 22,
   "metadata": {},
   "outputs": [
    {
     "name": "stdout",
     "output_type": "stream",
     "text": [
      "(3730, 7)\n"
     ]
    },
    {
     "data": {
      "text/html": [
       "<div>\n",
       "<style scoped>\n",
       "    .dataframe tbody tr th:only-of-type {\n",
       "        vertical-align: middle;\n",
       "    }\n",
       "\n",
       "    .dataframe tbody tr th {\n",
       "        vertical-align: top;\n",
       "    }\n",
       "\n",
       "    .dataframe thead th {\n",
       "        text-align: right;\n",
       "    }\n",
       "</style>\n",
       "<table border=\"1\" class=\"dataframe\">\n",
       "  <thead>\n",
       "    <tr style=\"text-align: right;\">\n",
       "      <th></th>\n",
       "      <th>binomial</th>\n",
       "      <th>split2</th>\n",
       "      <th>split2_clean</th>\n",
       "      <th>li_synonyms</th>\n",
       "      <th>li_synonyms_clean</th>\n",
       "      <th>syn_equal_other_species</th>\n",
       "      <th>li_synonyms_final</th>\n",
       "    </tr>\n",
       "  </thead>\n",
       "  <tbody>\n",
       "    <tr>\n",
       "      <th>0</th>\n",
       "      <td>Hydrophis peronii</td>\n",
       "      <td>c(\"Acalyptus Peronii\", \"? Acalyptus\", \"Acalypt...</td>\n",
       "      <td>['Acalyptophis peroni', 'Acalyptophis peronii'...</td>\n",
       "      <td>['Acalyptophis peroni', 'Acalyptophis peronii'...</td>\n",
       "      <td>['Acalyptophis peroni', 'Acalyptophis peronii'...</td>\n",
       "      <td>[]</td>\n",
       "      <td>[Acalyptophis peroni, Acalyptophis peronii, Ac...</td>\n",
       "    </tr>\n",
       "    <tr>\n",
       "      <th>1</th>\n",
       "      <td>Acanthophis antarcticus</td>\n",
       "      <td>c(\"Boa antarctica\", \"Acanthophis cerastinus\", ...</td>\n",
       "      <td>['Vipera sorda', 'Acanthophis antarcticus', 'B...</td>\n",
       "      <td>['Vipera sorda', 'Boa ambigua', 'Boa antarctic...</td>\n",
       "      <td>['Vipera sorda', 'Boa ambigua', 'Boa antarctic...</td>\n",
       "      <td>[]</td>\n",
       "      <td>[Vipera sorda, Boa ambigua, Boa antarctica, Vi...</td>\n",
       "    </tr>\n",
       "    <tr>\n",
       "      <th>2</th>\n",
       "      <td>Acanthophis hawkei</td>\n",
       "      <td>c(\"Acanthophis hawkei\", \"Acanthophis cummingi\"...</td>\n",
       "      <td>['Acanthophis hawkei', 'Acanthophis cummingi']</td>\n",
       "      <td>['Acanthophis cummingi']</td>\n",
       "      <td>['Acanthophis cummingi']</td>\n",
       "      <td>[]</td>\n",
       "      <td>[Acanthophis cummingi]</td>\n",
       "    </tr>\n",
       "  </tbody>\n",
       "</table>\n",
       "</div>"
      ],
      "text/plain": [
       "                  binomial                                             split2  \\\n",
       "0        Hydrophis peronii  c(\"Acalyptus Peronii\", \"? Acalyptus\", \"Acalypt...   \n",
       "1  Acanthophis antarcticus  c(\"Boa antarctica\", \"Acanthophis cerastinus\", ...   \n",
       "2       Acanthophis hawkei  c(\"Acanthophis hawkei\", \"Acanthophis cummingi\"...   \n",
       "\n",
       "                                        split2_clean  \\\n",
       "0  ['Acalyptophis peroni', 'Acalyptophis peronii'...   \n",
       "1  ['Vipera sorda', 'Acanthophis antarcticus', 'B...   \n",
       "2     ['Acanthophis hawkei', 'Acanthophis cummingi']   \n",
       "\n",
       "                                         li_synonyms  \\\n",
       "0  ['Acalyptophis peroni', 'Acalyptophis peronii'...   \n",
       "1  ['Vipera sorda', 'Boa ambigua', 'Boa antarctic...   \n",
       "2                           ['Acanthophis cummingi']   \n",
       "\n",
       "                                   li_synonyms_clean syn_equal_other_species  \\\n",
       "0  ['Acalyptophis peroni', 'Acalyptophis peronii'...                      []   \n",
       "1  ['Vipera sorda', 'Boa ambigua', 'Boa antarctic...                      []   \n",
       "2                           ['Acanthophis cummingi']                      []   \n",
       "\n",
       "                                   li_synonyms_final  \n",
       "0  [Acalyptophis peroni, Acalyptophis peronii, Ac...  \n",
       "1  [Vipera sorda, Boa ambigua, Boa antarctica, Vi...  \n",
       "2                             [Acanthophis cummingi]  "
      ]
     },
     "execution_count": 22,
     "metadata": {},
     "output_type": "execute_result"
    }
   ],
   "source": [
    "df_species_syn = pd.read_csv(os.path.join(ROOT_DIR, 'datasets/synonyms/df_species_syn_andrew.csv'), sep=',')\n",
    "df_species_syn['li_synonyms_final'] = df_species_syn['li_synonyms_final'].map(lambda x: eval(x))\n",
    "print(df_species_syn.shape)\n",
    "df_species_syn.head(3)"
   ]
  },
  {
   "cell_type": "markdown",
   "metadata": {},
   "source": [
    "#### create list of species and their synonymes"
   ]
  },
  {
   "cell_type": "code",
   "execution_count": 23,
   "metadata": {},
   "outputs": [
    {
     "name": "stdout",
     "output_type": "stream",
     "text": [
      "There is 12425 species-word in total to query for\n"
     ]
    }
   ],
   "source": [
    "dico_species_syn = dict(zip(df_species_syn['binomial'], df_species_syn['li_synonyms_final']))\n",
    "li_species_word = []\n",
    "for k,v in dico_species_syn.items():\n",
    "    li_species_word.append(k)\n",
    "    li_species_word.extend(v)\n",
    "print('There is %d species-word in total to query for'%len(li_species_word))"
   ]
  },
  {
   "cell_type": "code",
   "execution_count": 24,
   "metadata": {},
   "outputs": [],
   "source": [
    "#dico ith keys a species word and value its associated species name\n",
    "dico_speciesword_species = {}\n",
    "for k,v in dico_species_syn.items():\n",
    "    for i in v+[k]:\n",
    "            dico_speciesword_species[i] = k"
   ]
  },
  {
   "cell_type": "markdown",
   "metadata": {},
   "source": [
    "#### herpmapper info"
   ]
  },
  {
   "cell_type": "code",
   "execution_count": 25,
   "metadata": {},
   "outputs": [
    {
     "name": "stdout",
     "output_type": "stream",
     "text": [
      "(236944, 8)\n"
     ]
    },
    {
     "data": {
      "text/html": [
       "<div>\n",
       "<style scoped>\n",
       "    .dataframe tbody tr th:only-of-type {\n",
       "        vertical-align: middle;\n",
       "    }\n",
       "\n",
       "    .dataframe tbody tr th {\n",
       "        vertical-align: top;\n",
       "    }\n",
       "\n",
       "    .dataframe thead th {\n",
       "        text-align: right;\n",
       "    }\n",
       "</style>\n",
       "<table border=\"1\" class=\"dataframe\">\n",
       "  <thead>\n",
       "    <tr style=\"text-align: right;\">\n",
       "      <th></th>\n",
       "      <th>ID</th>\n",
       "      <th>Date</th>\n",
       "      <th>Time</th>\n",
       "      <th>Taxon</th>\n",
       "      <th>Country</th>\n",
       "      <th>Level 1</th>\n",
       "      <th>Level 2</th>\n",
       "      <th>Vouchers</th>\n",
       "    </tr>\n",
       "  </thead>\n",
       "  <tbody>\n",
       "    <tr>\n",
       "      <th>0</th>\n",
       "      <td>HM 1</td>\n",
       "      <td>2006-11-08</td>\n",
       "      <td>13:42:00</td>\n",
       "      <td>Storeria dekayi</td>\n",
       "      <td>United States of America</td>\n",
       "      <td>Iowa</td>\n",
       "      <td>Johnson</td>\n",
       "      <td>https://www.herpmapper.org/content/voucher/0/1...</td>\n",
       "    </tr>\n",
       "    <tr>\n",
       "      <th>1</th>\n",
       "      <td>HM 2</td>\n",
       "      <td>2006-11-07</td>\n",
       "      <td>17:26:00</td>\n",
       "      <td>Lithobates pipiens</td>\n",
       "      <td>United States of America</td>\n",
       "      <td>Iowa</td>\n",
       "      <td>Benton</td>\n",
       "      <td>https://www.herpmapper.org/content/voucher/0/2...</td>\n",
       "    </tr>\n",
       "    <tr>\n",
       "      <th>2</th>\n",
       "      <td>HM 3</td>\n",
       "      <td>2006-11-05</td>\n",
       "      <td>11:55:00</td>\n",
       "      <td>Coluber constrictor flaviventris</td>\n",
       "      <td>United States of America</td>\n",
       "      <td>Iowa</td>\n",
       "      <td>Linn</td>\n",
       "      <td>https://www.herpmapper.org/content/voucher/0/4...</td>\n",
       "    </tr>\n",
       "  </tbody>\n",
       "</table>\n",
       "</div>"
      ],
      "text/plain": [
       "     ID        Date      Time                             Taxon  \\\n",
       "0  HM 1  2006-11-08  13:42:00                   Storeria dekayi   \n",
       "1  HM 2  2006-11-07  17:26:00                Lithobates pipiens   \n",
       "2  HM 3  2006-11-05  11:55:00  Coluber constrictor flaviventris   \n",
       "\n",
       "                    Country Level 1  Level 2  \\\n",
       "0  United States of America    Iowa  Johnson   \n",
       "1  United States of America    Iowa   Benton   \n",
       "2  United States of America    Iowa     Linn   \n",
       "\n",
       "                                            Vouchers  \n",
       "0  https://www.herpmapper.org/content/voucher/0/1...  \n",
       "1  https://www.herpmapper.org/content/voucher/0/2...  \n",
       "2  https://www.herpmapper.org/content/voucher/0/4...  "
      ]
     },
     "execution_count": 25,
     "metadata": {},
     "output_type": "execute_result"
    }
   ],
   "source": [
    "#to get url to ask in hermapper\n",
    "df_all = pd.read_csv(os.path.join(path_data,'herpmapper.csv'))\n",
    "print(df_all.shape)\n",
    "df_all.head(3)"
   ]
  },
  {
   "cell_type": "markdown",
   "metadata": {},
   "source": [
    "# Create a csv file with info of images"
   ]
  },
  {
   "cell_type": "code",
   "execution_count": 26,
   "metadata": {},
   "outputs": [
    {
     "name": "stdout",
     "output_type": "stream",
     "text": [
      "(41093, 8)\n",
      "(41090, 8)\n"
     ]
    },
    {
     "data": {
      "text/html": [
       "<div>\n",
       "<style scoped>\n",
       "    .dataframe tbody tr th:only-of-type {\n",
       "        vertical-align: middle;\n",
       "    }\n",
       "\n",
       "    .dataframe tbody tr th {\n",
       "        vertical-align: top;\n",
       "    }\n",
       "\n",
       "    .dataframe thead th {\n",
       "        text-align: right;\n",
       "    }\n",
       "</style>\n",
       "<table border=\"1\" class=\"dataframe\">\n",
       "  <thead>\n",
       "    <tr style=\"text-align: right;\">\n",
       "      <th></th>\n",
       "      <th>ID</th>\n",
       "      <th>Date</th>\n",
       "      <th>Time</th>\n",
       "      <th>Taxon</th>\n",
       "      <th>Country</th>\n",
       "      <th>Level 1</th>\n",
       "      <th>Level 2</th>\n",
       "      <th>Vouchers</th>\n",
       "      <th>species_name</th>\n",
       "      <th>url_list</th>\n",
       "    </tr>\n",
       "  </thead>\n",
       "  <tbody>\n",
       "    <tr>\n",
       "      <th>0</th>\n",
       "      <td>HM 1</td>\n",
       "      <td>2006-11-08</td>\n",
       "      <td>13:42:00</td>\n",
       "      <td>Storeria dekayi</td>\n",
       "      <td>United States of America</td>\n",
       "      <td>Iowa</td>\n",
       "      <td>Johnson</td>\n",
       "      <td>https://www.herpmapper.org/content/voucher/0/1...</td>\n",
       "      <td>Storeria dekayi</td>\n",
       "      <td>[https://www.herpmapper.org/content/voucher/0/...</td>\n",
       "    </tr>\n",
       "    <tr>\n",
       "      <th>4</th>\n",
       "      <td>HM 5</td>\n",
       "      <td>2006-11-04</td>\n",
       "      <td>12:55:00</td>\n",
       "      <td>Storeria dekayi</td>\n",
       "      <td>United States of America</td>\n",
       "      <td>Iowa</td>\n",
       "      <td>Linn</td>\n",
       "      <td>https://www.herpmapper.org/content/voucher/0/1...</td>\n",
       "      <td>Storeria dekayi</td>\n",
       "      <td>[https://www.herpmapper.org/content/voucher/0/...</td>\n",
       "    </tr>\n",
       "    <tr>\n",
       "      <th>5</th>\n",
       "      <td>HM 6</td>\n",
       "      <td>2006-10-30</td>\n",
       "      <td>09:05:00</td>\n",
       "      <td>Storeria dekayi</td>\n",
       "      <td>United States of America</td>\n",
       "      <td>Iowa</td>\n",
       "      <td>Linn</td>\n",
       "      <td>https://www.herpmapper.org/content/voucher/0/1...</td>\n",
       "      <td>Storeria dekayi</td>\n",
       "      <td>[https://www.herpmapper.org/content/voucher/0/...</td>\n",
       "    </tr>\n",
       "  </tbody>\n",
       "</table>\n",
       "</div>"
      ],
      "text/plain": [
       "     ID        Date      Time            Taxon                   Country  \\\n",
       "0  HM 1  2006-11-08  13:42:00  Storeria dekayi  United States of America   \n",
       "4  HM 5  2006-11-04  12:55:00  Storeria dekayi  United States of America   \n",
       "5  HM 6  2006-10-30  09:05:00  Storeria dekayi  United States of America   \n",
       "\n",
       "  Level 1  Level 2                                           Vouchers  \\\n",
       "0    Iowa  Johnson  https://www.herpmapper.org/content/voucher/0/1...   \n",
       "4    Iowa     Linn  https://www.herpmapper.org/content/voucher/0/1...   \n",
       "5    Iowa     Linn  https://www.herpmapper.org/content/voucher/0/1...   \n",
       "\n",
       "      species_name                                           url_list  \n",
       "0  Storeria dekayi  [https://www.herpmapper.org/content/voucher/0/...  \n",
       "4  Storeria dekayi  [https://www.herpmapper.org/content/voucher/0/...  \n",
       "5  Storeria dekayi  [https://www.herpmapper.org/content/voucher/0/...  "
      ]
     },
     "execution_count": 26,
     "metadata": {},
     "output_type": "execute_result"
    }
   ],
   "source": [
    "#removing if not in our species-word list\n",
    "df = df_all[df_all['Taxon'].isin(li_species_word)]\n",
    "print(df.shape)\n",
    "#removing if no url\n",
    "df = df[~df['Vouchers'].isnull()]\n",
    "print(df.shape)\n",
    "#add associated species name of the species word \n",
    "df['species_name'] = df['Taxon'].map(lambda x: dico_speciesword_species[x])\n",
    "#creating alist of urls\n",
    "df['url_list'] = df['Vouchers'].map(lambda x: x.split(','))\n",
    "df.head(3)"
   ]
  },
  {
   "cell_type": "code",
   "execution_count": 27,
   "metadata": {},
   "outputs": [
    {
     "name": "stdout",
     "output_type": "stream",
     "text": [
      "There is 993 species-name with at least one image in HerpMapper\n"
     ]
    }
   ],
   "source": [
    "li_species_herpmapper = list(set(df['species_name'].tolist()))\n",
    "print('There is %d species-name with at least one image in HerpMapper'%len(li_species_herpmapper))"
   ]
  },
  {
   "cell_type": "code",
   "execution_count": 28,
   "metadata": {
    "scrolled": true
   },
   "outputs": [
    {
     "name": "stdout",
     "output_type": "stream",
     "text": [
      "There is 53389 images to download from Herpmapper\n"
     ]
    },
    {
     "data": {
      "text/html": [
       "<div>\n",
       "<style scoped>\n",
       "    .dataframe tbody tr th:only-of-type {\n",
       "        vertical-align: middle;\n",
       "    }\n",
       "\n",
       "    .dataframe tbody tr th {\n",
       "        vertical-align: top;\n",
       "    }\n",
       "\n",
       "    .dataframe thead th {\n",
       "        text-align: right;\n",
       "    }\n",
       "</style>\n",
       "<table border=\"1\" class=\"dataframe\">\n",
       "  <thead>\n",
       "    <tr style=\"text-align: right;\">\n",
       "      <th></th>\n",
       "      <th>Date</th>\n",
       "      <th>Level 1</th>\n",
       "      <th>Level 2</th>\n",
       "      <th>Time</th>\n",
       "      <th>Country</th>\n",
       "      <th>Taxon</th>\n",
       "      <th>ID</th>\n",
       "      <th>species_name</th>\n",
       "      <th>level_8</th>\n",
       "      <th>url</th>\n",
       "      <th>id</th>\n",
       "      <th>img_path</th>\n",
       "      <th>saved_img_id</th>\n",
       "    </tr>\n",
       "  </thead>\n",
       "  <tbody>\n",
       "    <tr>\n",
       "      <th>0</th>\n",
       "      <td>2006-11-08</td>\n",
       "      <td>Iowa</td>\n",
       "      <td>Johnson</td>\n",
       "      <td>13:42:00</td>\n",
       "      <td>United States of America</td>\n",
       "      <td>Storeria dekayi</td>\n",
       "      <td>HM 1</td>\n",
       "      <td>Storeria dekayi</td>\n",
       "      <td>0</td>\n",
       "      <td>https://www.herpmapper.org/content/voucher/0/1...</td>\n",
       "      <td>0-1</td>\n",
       "      <td>/home/camille/vm_exchange/Lab/snakes/datasets/...</td>\n",
       "      <td>herpmapper_Storeria dekayi_0-1.png</td>\n",
       "    </tr>\n",
       "    <tr>\n",
       "      <th>1</th>\n",
       "      <td>2006-11-04</td>\n",
       "      <td>Iowa</td>\n",
       "      <td>Linn</td>\n",
       "      <td>12:55:00</td>\n",
       "      <td>United States of America</td>\n",
       "      <td>Storeria dekayi</td>\n",
       "      <td>HM 5</td>\n",
       "      <td>Storeria dekayi</td>\n",
       "      <td>0</td>\n",
       "      <td>https://www.herpmapper.org/content/voucher/0/1...</td>\n",
       "      <td>0-13</td>\n",
       "      <td>/home/camille/vm_exchange/Lab/snakes/datasets/...</td>\n",
       "      <td>herpmapper_Storeria dekayi_0-13.png</td>\n",
       "    </tr>\n",
       "    <tr>\n",
       "      <th>2</th>\n",
       "      <td>2006-11-04</td>\n",
       "      <td>Iowa</td>\n",
       "      <td>Linn</td>\n",
       "      <td>12:55:00</td>\n",
       "      <td>United States of America</td>\n",
       "      <td>Storeria dekayi</td>\n",
       "      <td>HM 5</td>\n",
       "      <td>Storeria dekayi</td>\n",
       "      <td>1</td>\n",
       "      <td>https://www.herpmapper.org/content/voucher/0/...</td>\n",
       "      <td>0-14</td>\n",
       "      <td>/home/camille/vm_exchange/Lab/snakes/datasets/...</td>\n",
       "      <td>herpmapper_Storeria dekayi_0-14.png</td>\n",
       "    </tr>\n",
       "  </tbody>\n",
       "</table>\n",
       "</div>"
      ],
      "text/plain": [
       "         Date Level 1  Level 2      Time                   Country  \\\n",
       "0  2006-11-08    Iowa  Johnson  13:42:00  United States of America   \n",
       "1  2006-11-04    Iowa     Linn  12:55:00  United States of America   \n",
       "2  2006-11-04    Iowa     Linn  12:55:00  United States of America   \n",
       "\n",
       "             Taxon    ID     species_name  level_8  \\\n",
       "0  Storeria dekayi  HM 1  Storeria dekayi        0   \n",
       "1  Storeria dekayi  HM 5  Storeria dekayi        0   \n",
       "2  Storeria dekayi  HM 5  Storeria dekayi        1   \n",
       "\n",
       "                                                 url    id  \\\n",
       "0  https://www.herpmapper.org/content/voucher/0/1...   0-1   \n",
       "1  https://www.herpmapper.org/content/voucher/0/1...  0-13   \n",
       "2   https://www.herpmapper.org/content/voucher/0/...  0-14   \n",
       "\n",
       "                                            img_path  \\\n",
       "0  /home/camille/vm_exchange/Lab/snakes/datasets/...   \n",
       "1  /home/camille/vm_exchange/Lab/snakes/datasets/...   \n",
       "2  /home/camille/vm_exchange/Lab/snakes/datasets/...   \n",
       "\n",
       "                          saved_img_id  \n",
       "0   herpmapper_Storeria dekayi_0-1.png  \n",
       "1  herpmapper_Storeria dekayi_0-13.png  \n",
       "2  herpmapper_Storeria dekayi_0-14.png  "
      ]
     },
     "execution_count": 28,
     "metadata": {},
     "output_type": "execute_result"
    }
   ],
   "source": [
    "#create a df with one line per image instead\n",
    "df = df.set_index(['Date', 'Level 1', 'Level 2', 'Time', 'Country', 'Taxon','ID','species_name'])['url_list'].apply(pd.Series).stack()\n",
    "df = df.reset_index()\n",
    "df = df.rename(columns={0:'url'})\n",
    "#create a single id per image based on the info of herpmapper that is not supposed to changed\n",
    "#TODO: be verified by Andrew if this id is indeed unique (herpmapper should know)\n",
    "df['id'] = df['url'].map(lambda x: '-'.join(x.split('.')[-2].split('/')[-2:]))\n",
    "df['img_path'] = df.apply(lambda x: os.path.join(path_data,'datasets','herpmapper',x['Taxon'],\n",
    "                                                       'herpmapper_'+x['Taxon']+'_'+x['id']+\".png\"), axis=1)\n",
    "df['saved_img_id'] = df['img_path'].map(lambda x: x.split('/')[-1])\n",
    "print('There is %d images to download from Herpmapper'%df.shape[0])\n",
    "#we gain 558 image susing all synonymes ending up to 53389 images\n",
    "df.head(3)"
   ]
  },
  {
   "cell_type": "code",
   "execution_count": 29,
   "metadata": {},
   "outputs": [],
   "source": [
    "if len(df['id'].tolist())!=len(set(df['id'].tolist())):\n",
    "    print('ERROR: not unique ids of herpmapper images')\n",
    "    sys.exit()"
   ]
  },
  {
   "cell_type": "markdown",
   "metadata": {},
   "source": [
    "# Download Herpmapper images"
   ]
  },
  {
   "cell_type": "markdown",
   "metadata": {},
   "source": [
    "#in case to erase all (not herpmapper.csv data given by Andrew)\n",
    "for species in glob.glob(os.path.join(path_data,'*')):\n",
    "    if not species.endswith('.csv'):\n",
    "        shutil.rmtree(species)"
   ]
  },
  {
   "cell_type": "code",
   "execution_count": 30,
   "metadata": {},
   "outputs": [],
   "source": [
    "#create appropriate folders if not existing\n",
    "for species in li_species_herpmapper:\n",
    "    folder_path_s = os.path.join(path_data,species)\n",
    "    if not os.path.exists(folder_path_s):\n",
    "        os.makedirs(folder_path_s)      "
   ]
  },
  {
   "cell_type": "code",
   "execution_count": 31,
   "metadata": {},
   "outputs": [],
   "source": [
    "def download_herpmapper_image(i):\n",
    "    \n",
    "    #download image and save it\n",
    "    species = df.iloc[i]['species_name']\n",
    "    f = os.path.join(path_data, species,'herpmapper_'+species+'_'+df.iloc[i]['id']+\".png\")\n",
    "    get_image(url=df.iloc[i]['url'], path=f, name=species)"
   ]
  },
  {
   "cell_type": "code",
   "execution_count": 32,
   "metadata": {},
   "outputs": [
    {
     "name": "stdout",
     "output_type": "stream",
     "text": [
      "Not able to SAVE image for species Crotalus atrox and url  https://www.herpmapper.org/content/voucher/6/60465.mp3,                     due to: cannot identify image file <_io.BytesIO object at 0x7f2cc57f8f68> ,  lets STOP\n",
      "200\n"
     ]
    },
    {
     "name": "stderr",
     "output_type": "stream",
     "text": [
      "ERROR:root:Internal Python error in the inspect module.\n",
      "Below is the traceback from this internal error.\n",
      "\n",
      "\n",
      "KeyboardInterrupt\n",
      "\n"
     ]
    }
   ],
   "source": [
    "#compute time needed to gather all images\n",
    "start = time.time()\n",
    "with Pool(80) as p:\n",
    "    p.map(download_herpmapper_image, range(df.shape[0]))\n",
    "end = time.time()\n",
    "print (\"Total running time: \", (end-start)/60) #in minutes"
   ]
  },
  {
   "cell_type": "markdown",
   "metadata": {},
   "source": [
    "# Verify error in download"
   ]
  },
  {
   "cell_type": "markdown",
   "metadata": {},
   "source": [
    "#indeed url can not be found\n",
    "url = df[(df['Taxon']=='Opheodrys vernalis')&(df['id']=='6-63743')]['url'].values[0]\n",
    "print(url)\n",
    "img = Image.open(urlopen(url))\n",
    "plt.imshow(img);"
   ]
  },
  {
   "cell_type": "markdown",
   "metadata": {},
   "source": [
    "#indeed: its a video\n",
    "url = df[(df['Taxon']=='Crotalus atrox')&(df['id']=='6-60465')]['url'].values[0]\n",
    "print(url)\n",
    "img = Image.open(urlopen(url))\n",
    "plt.imshow(img);"
   ]
  },
  {
   "cell_type": "markdown",
   "metadata": {},
   "source": [
    "#indeed url can not be found\n",
    "url = df[(df['Taxon']=='Pantherophis vulpinus')&(df['id']=='26-260082')]['url'].values[0]\n",
    "print(url)\n",
    "img = Image.open(urlopen(url))\n",
    "plt.imshow(img);"
   ]
  },
  {
   "cell_type": "markdown",
   "metadata": {},
   "source": [
    "# Check amount of Herpmapper images we have"
   ]
  },
  {
   "cell_type": "code",
   "execution_count": 33,
   "metadata": {},
   "outputs": [
    {
     "name": "stdout",
     "output_type": "stream",
     "text": [
      "We have 36320 images collected from Herpmapper\n"
     ]
    }
   ],
   "source": [
    "#choose appropriate genus for search\n",
    "li_images_hm = []\n",
    "for species in glob.glob(os.path.join(path_data,'*')):\n",
    "    li_images_hm.extend([x for x in glob.glob(os.path.join(species,'*')) if x.endswith('.png')]) \n",
    "print('We have %d images collected from Herpmapper'%len(li_images_hm))"
   ]
  },
  {
   "cell_type": "markdown",
   "metadata": {},
   "source": [
    "# save metadata info (only collected images)"
   ]
  },
  {
   "cell_type": "code",
   "execution_count": 34,
   "metadata": {},
   "outputs": [
    {
     "name": "stdout",
     "output_type": "stream",
     "text": [
      "We lost 31.97 percent of images (17069 images)\n"
     ]
    }
   ],
   "source": [
    "x1 = df.shape[0]\n",
    "df = df[df['img_path'].isin(li_images_hm)]\n",
    "print('We lost %.2f percent of images (%d images)'%((x1-len(li_images_hm))/x1*100,x1-len(li_images_hm)))\n",
    "df.to_csv(os.path.join(path_data,'herpmapper_image_info.csv'), index=False, sep=';')"
   ]
  },
  {
   "cell_type": "code",
   "execution_count": null,
   "metadata": {},
   "outputs": [],
   "source": []
  },
  {
   "cell_type": "code",
   "execution_count": null,
   "metadata": {},
   "outputs": [],
   "source": []
  },
  {
   "cell_type": "code",
   "execution_count": null,
   "metadata": {},
   "outputs": [],
   "source": []
  },
  {
   "cell_type": "code",
   "execution_count": null,
   "metadata": {},
   "outputs": [],
   "source": []
  },
  {
   "cell_type": "code",
   "execution_count": null,
   "metadata": {},
   "outputs": [],
   "source": []
  },
  {
   "cell_type": "code",
   "execution_count": null,
   "metadata": {},
   "outputs": [],
   "source": []
  }
 ],
 "metadata": {
  "kernelspec": {
   "display_name": "Python 3",
   "language": "python",
   "name": "python3"
  },
  "language_info": {
   "codemirror_mode": {
    "name": "ipython",
    "version": 3
   },
   "file_extension": ".py",
   "mimetype": "text/x-python",
   "name": "python",
   "nbconvert_exporter": "python",
   "pygments_lexer": "ipython3",
   "version": "3.6.4"
  }
 },
 "nbformat": 4,
 "nbformat_minor": 2
}
